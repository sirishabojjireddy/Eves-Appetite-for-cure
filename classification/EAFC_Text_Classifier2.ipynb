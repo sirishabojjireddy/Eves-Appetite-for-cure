{
  "nbformat": 4,
  "nbformat_minor": 0,
  "metadata": {
    "colab": {
      "name": "EAFC_Text_Classifier2.ipynb",
      "provenance": [],
      "authorship_tag": "ABX9TyOpm0MLEhvjtxYi4rqzwDkj",
      "include_colab_link": true
    },
    "kernelspec": {
      "name": "python3",
      "display_name": "Python 3"
    }
  },
  "cells": [
    {
      "cell_type": "markdown",
      "metadata": {
        "id": "view-in-github",
        "colab_type": "text"
      },
      "source": [
        "<a href=\"https://colab.research.google.com/github/ketkiambekar/EAFC/blob/main/EAFC_Text_Classifier2.ipynb\" target=\"_parent\"><img src=\"https://colab.research.google.com/assets/colab-badge.svg\" alt=\"Open In Colab\"/></a>"
      ]
    },
    {
      "cell_type": "code",
      "metadata": {
        "id": "RObtRIDKHotF"
      },
      "source": [
        "import pandas as pd\n",
        "import numpy as np\n",
        "import nltk\n",
        "from nltk.tokenize import word_tokenize\n",
        "from nltk import pos_tag\n",
        "from nltk.corpus import stopwords\n",
        "from nltk.stem import WordNetLemmatizer\n",
        "from sklearn.preprocessing import LabelEncoder\n",
        "from collections import defaultdict\n",
        "from nltk.corpus import wordnet as wn\n",
        "from sklearn.feature_extraction.text import TfidfVectorizer\n",
        "from sklearn import model_selection, naive_bayes, svm\n",
        "from sklearn.metrics import accuracy_score\n",
        "from nltk.corpus import stopwords, wordnet\n",
        "from sklearn.linear_model import LogisticRegression\n",
        "from sklearn.ensemble import RandomForestClassifier\n",
        "from sklearn.svm import LinearSVC\n",
        "from sklearn.model_selection import cross_val_score\n",
        "from sklearn.model_selection import train_test_split\n",
        "from sklearn.feature_extraction.text import CountVectorizer\n",
        "from sklearn.feature_extraction.text import TfidfTransformer\n",
        "from sklearn.naive_bayes import MultinomialNB\n"
      ],
      "execution_count": null,
      "outputs": []
    },
    {
      "cell_type": "code",
      "metadata": {
        "colab": {
          "base_uri": "https://localhost:8080/"
        },
        "id": "SUqqvQViI-nE",
        "outputId": "356a5aa7-caa4-42a2-8f02-4c04a87e9cf8"
      },
      "source": [
        "nltk.download('punkt')\n",
        "nltk.download('stopwords')\n",
        "nltk.download('averaged_perceptron_tagger')\n",
        "nltk.download('wordnet')"
      ],
      "execution_count": null,
      "outputs": [
        {
          "output_type": "stream",
          "text": [
            "[nltk_data] Downloading package punkt to /root/nltk_data...\n",
            "[nltk_data]   Package punkt is already up-to-date!\n",
            "[nltk_data] Downloading package stopwords to /root/nltk_data...\n",
            "[nltk_data]   Package stopwords is already up-to-date!\n",
            "[nltk_data] Downloading package averaged_perceptron_tagger to\n",
            "[nltk_data]     /root/nltk_data...\n",
            "[nltk_data]   Package averaged_perceptron_tagger is already up-to-\n",
            "[nltk_data]       date!\n",
            "[nltk_data] Downloading package wordnet to /root/nltk_data...\n",
            "[nltk_data]   Package wordnet is already up-to-date!\n"
          ],
          "name": "stdout"
        },
        {
          "output_type": "execute_result",
          "data": {
            "text/plain": [
              "True"
            ]
          },
          "metadata": {
            "tags": []
          },
          "execution_count": 127
        }
      ]
    },
    {
      "cell_type": "code",
      "metadata": {
        "id": "oNay3eG2PWwU"
      },
      "source": [
        "#Read labelled data csv "
      ],
      "execution_count": null,
      "outputs": []
    },
    {
      "cell_type": "code",
      "metadata": {
        "colab": {
          "base_uri": "https://localhost:8080/",
          "height": 306
        },
        "id": "OzYAwRxS8_6i",
        "outputId": "50427a45-db07-4a94-e6de-a06641aadd6e"
      },
      "source": [
        "corpus = pd.read_csv(\"EAFC_Raw.csv\",encoding='latin-1')\n",
        "corpus.head()"
      ],
      "execution_count": null,
      "outputs": [
        {
          "output_type": "execute_result",
          "data": {
            "text/html": [
              "<div>\n",
              "<style scoped>\n",
              "    .dataframe tbody tr th:only-of-type {\n",
              "        vertical-align: middle;\n",
              "    }\n",
              "\n",
              "    .dataframe tbody tr th {\n",
              "        vertical-align: top;\n",
              "    }\n",
              "\n",
              "    .dataframe thead th {\n",
              "        text-align: right;\n",
              "    }\n",
              "</style>\n",
              "<table border=\"1\" class=\"dataframe\">\n",
              "  <thead>\n",
              "    <tr style=\"text-align: right;\">\n",
              "      <th></th>\n",
              "      <th>Unnamed: 0</th>\n",
              "      <th>title</th>\n",
              "      <th>body</th>\n",
              "      <th>label</th>\n",
              "      <th>clean_body</th>\n",
              "      <th>clean_body_str</th>\n",
              "    </tr>\n",
              "  </thead>\n",
              "  <tbody>\n",
              "    <tr>\n",
              "      <th>0</th>\n",
              "      <td>0</td>\n",
              "      <td>Fuck that Bell!</td>\n",
              "      <td>Sorry for the title, but I wish the bell ringi...</td>\n",
              "      <td>6.0</td>\n",
              "      <td>['fuck', 'bell', 'sorry', 'title', 'wish', 'be...</td>\n",
              "      <td>fuck bell sorry title wish bell ringing party ...</td>\n",
              "    </tr>\n",
              "    <tr>\n",
              "      <th>1</th>\n",
              "      <td>1</td>\n",
              "      <td>Father suffering from end stage aggression. Wo...</td>\n",
              "      <td>My dad was diagnosed with stage 4 bone cancer ...</td>\n",
              "      <td>7.0</td>\n",
              "      <td>['famrel', 'suffering', 'end', 'stage', 'aggre...</td>\n",
              "      <td>famrel suffering end stage aggression will not...</td>\n",
              "    </tr>\n",
              "    <tr>\n",
              "      <th>2</th>\n",
              "      <td>2</td>\n",
              "      <td>last chemo was today :)</td>\n",
              "      <td>just finished my last of 12 abvd infusions. I ...</td>\n",
              "      <td>2.0</td>\n",
              "      <td>['last', 'chemo', 'today', 'just', 'finished',...</td>\n",
              "      <td>last chemo today just finished last number abv...</td>\n",
              "    </tr>\n",
              "    <tr>\n",
              "      <th>3</th>\n",
              "      <td>3</td>\n",
              "      <td>ER phobia?</td>\n",
              "      <td>Have any of your loved ones checked out of the...</td>\n",
              "      <td>7.0</td>\n",
              "      <td>['er', 'phobia', 'any', 'loved', 'numbers', 'c...</td>\n",
              "      <td>er phobia any loved numbers checked out hospit...</td>\n",
              "    </tr>\n",
              "    <tr>\n",
              "      <th>4</th>\n",
              "      <td>4</td>\n",
              "      <td>8 minutes into his appointment, another scene ...</td>\n",
              "      <td>At this point itâs just funny to me. Iâm n...</td>\n",
              "      <td>3.0</td>\n",
              "      <td>['number', 'minutes', 'appointment', 'another'...</td>\n",
              "      <td>number minutes appointment another scene made ...</td>\n",
              "    </tr>\n",
              "  </tbody>\n",
              "</table>\n",
              "</div>"
            ],
            "text/plain": [
              "   Unnamed: 0  ...                                     clean_body_str\n",
              "0           0  ...  fuck bell sorry title wish bell ringing party ...\n",
              "1           1  ...  famrel suffering end stage aggression will not...\n",
              "2           2  ...  last chemo today just finished last number abv...\n",
              "3           3  ...  er phobia any loved numbers checked out hospit...\n",
              "4           4  ...  number minutes appointment another scene made ...\n",
              "\n",
              "[5 rows x 6 columns]"
            ]
          },
          "metadata": {
            "tags": []
          },
          "execution_count": 128
        }
      ]
    },
    {
      "cell_type": "code",
      "metadata": {
        "id": "mOl5ipdoH3EM"
      },
      "source": [
        "#np.random.seed(500)"
      ],
      "execution_count": null,
      "outputs": []
    },
    {
      "cell_type": "code",
      "metadata": {
        "colab": {
          "base_uri": "https://localhost:8080/"
        },
        "id": "sIsRMU50Iv88",
        "outputId": "eb5fd800-2be8-46dd-ebd3-f504891e2ba2"
      },
      "source": [
        "corpus.info()"
      ],
      "execution_count": null,
      "outputs": [
        {
          "output_type": "stream",
          "text": [
            "<class 'pandas.core.frame.DataFrame'>\n",
            "RangeIndex: 704 entries, 0 to 703\n",
            "Data columns (total 6 columns):\n",
            " #   Column          Non-Null Count  Dtype  \n",
            "---  ------          --------------  -----  \n",
            " 0   Unnamed: 0      704 non-null    int64  \n",
            " 1   title           704 non-null    object \n",
            " 2   body            704 non-null    object \n",
            " 3   label           704 non-null    float64\n",
            " 4   clean_body      704 non-null    object \n",
            " 5   clean_body_str  704 non-null    object \n",
            "dtypes: float64(1), int64(1), object(4)\n",
            "memory usage: 33.1+ KB\n"
          ],
          "name": "stdout"
        }
      ]
    },
    {
      "cell_type": "code",
      "metadata": {
        "colab": {
          "base_uri": "https://localhost:8080/",
          "height": 357
        },
        "id": "Nw4yPeQgI38b",
        "outputId": "e2cc4e99-f59b-4187-ce0e-265458c7b64d"
      },
      "source": [
        "#Tokenize\n",
        "corpus['tokenized'] = corpus['clean_body_str'].apply(word_tokenize)\n",
        "corpus.head()"
      ],
      "execution_count": null,
      "outputs": [
        {
          "output_type": "execute_result",
          "data": {
            "text/html": [
              "<div>\n",
              "<style scoped>\n",
              "    .dataframe tbody tr th:only-of-type {\n",
              "        vertical-align: middle;\n",
              "    }\n",
              "\n",
              "    .dataframe tbody tr th {\n",
              "        vertical-align: top;\n",
              "    }\n",
              "\n",
              "    .dataframe thead th {\n",
              "        text-align: right;\n",
              "    }\n",
              "</style>\n",
              "<table border=\"1\" class=\"dataframe\">\n",
              "  <thead>\n",
              "    <tr style=\"text-align: right;\">\n",
              "      <th></th>\n",
              "      <th>Unnamed: 0</th>\n",
              "      <th>title</th>\n",
              "      <th>body</th>\n",
              "      <th>label</th>\n",
              "      <th>clean_body</th>\n",
              "      <th>clean_body_str</th>\n",
              "      <th>tokenized</th>\n",
              "    </tr>\n",
              "  </thead>\n",
              "  <tbody>\n",
              "    <tr>\n",
              "      <th>0</th>\n",
              "      <td>0</td>\n",
              "      <td>Fuck that Bell!</td>\n",
              "      <td>Sorry for the title, but I wish the bell ringi...</td>\n",
              "      <td>6.0</td>\n",
              "      <td>['fuck', 'bell', 'sorry', 'title', 'wish', 'be...</td>\n",
              "      <td>fuck bell sorry title wish bell ringing party ...</td>\n",
              "      <td>[fuck, bell, sorry, title, wish, bell, ringing...</td>\n",
              "    </tr>\n",
              "    <tr>\n",
              "      <th>1</th>\n",
              "      <td>1</td>\n",
              "      <td>Father suffering from end stage aggression. Wo...</td>\n",
              "      <td>My dad was diagnosed with stage 4 bone cancer ...</td>\n",
              "      <td>7.0</td>\n",
              "      <td>['famrel', 'suffering', 'end', 'stage', 'aggre...</td>\n",
              "      <td>famrel suffering end stage aggression will not...</td>\n",
              "      <td>[famrel, suffering, end, stage, aggression, wi...</td>\n",
              "    </tr>\n",
              "    <tr>\n",
              "      <th>2</th>\n",
              "      <td>2</td>\n",
              "      <td>last chemo was today :)</td>\n",
              "      <td>just finished my last of 12 abvd infusions. I ...</td>\n",
              "      <td>2.0</td>\n",
              "      <td>['last', 'chemo', 'today', 'just', 'finished',...</td>\n",
              "      <td>last chemo today just finished last number abv...</td>\n",
              "      <td>[last, chemo, today, just, finished, last, num...</td>\n",
              "    </tr>\n",
              "    <tr>\n",
              "      <th>3</th>\n",
              "      <td>3</td>\n",
              "      <td>ER phobia?</td>\n",
              "      <td>Have any of your loved ones checked out of the...</td>\n",
              "      <td>7.0</td>\n",
              "      <td>['er', 'phobia', 'any', 'loved', 'numbers', 'c...</td>\n",
              "      <td>er phobia any loved numbers checked out hospit...</td>\n",
              "      <td>[er, phobia, any, loved, numbers, checked, out...</td>\n",
              "    </tr>\n",
              "    <tr>\n",
              "      <th>4</th>\n",
              "      <td>4</td>\n",
              "      <td>8 minutes into his appointment, another scene ...</td>\n",
              "      <td>At this point itâs just funny to me. Iâm n...</td>\n",
              "      <td>3.0</td>\n",
              "      <td>['number', 'minutes', 'appointment', 'another'...</td>\n",
              "      <td>number minutes appointment another scene made ...</td>\n",
              "      <td>[number, minutes, appointment, another, scene,...</td>\n",
              "    </tr>\n",
              "  </tbody>\n",
              "</table>\n",
              "</div>"
            ],
            "text/plain": [
              "   Unnamed: 0  ...                                          tokenized\n",
              "0           0  ...  [fuck, bell, sorry, title, wish, bell, ringing...\n",
              "1           1  ...  [famrel, suffering, end, stage, aggression, wi...\n",
              "2           2  ...  [last, chemo, today, just, finished, last, num...\n",
              "3           3  ...  [er, phobia, any, loved, numbers, checked, out...\n",
              "4           4  ...  [number, minutes, appointment, another, scene,...\n",
              "\n",
              "[5 rows x 7 columns]"
            ]
          },
          "metadata": {
            "tags": []
          },
          "execution_count": 130
        }
      ]
    },
    {
      "cell_type": "code",
      "metadata": {
        "id": "aJyFIqehLzDU"
      },
      "source": [
        "def get_wordnet_pos(tag):\n",
        "    if tag.startswith('J'):\n",
        "        return wordnet.ADJ\n",
        "    elif tag.startswith('V'):\n",
        "        return wordnet.VERB\n",
        "    elif tag.startswith('N'):\n",
        "        return wordnet.NOUN\n",
        "    elif tag.startswith('R'):\n",
        "        return wordnet.ADV\n",
        "    else:\n",
        "        return wordnet.NOUN"
      ],
      "execution_count": null,
      "outputs": []
    },
    {
      "cell_type": "code",
      "metadata": {
        "colab": {
          "base_uri": "https://localhost:8080/",
          "height": 408
        },
        "id": "Yvfi3mGhN2Me",
        "outputId": "f395aa1e-3c22-4f3c-864d-e6a6da655d13"
      },
      "source": [
        "#Tagging Parts of Speech in the tokenized \n",
        "corpus['pos_tags'] = corpus['tokenized'].apply(nltk.tag.pos_tag)\n",
        "corpus.head()"
      ],
      "execution_count": null,
      "outputs": [
        {
          "output_type": "execute_result",
          "data": {
            "text/html": [
              "<div>\n",
              "<style scoped>\n",
              "    .dataframe tbody tr th:only-of-type {\n",
              "        vertical-align: middle;\n",
              "    }\n",
              "\n",
              "    .dataframe tbody tr th {\n",
              "        vertical-align: top;\n",
              "    }\n",
              "\n",
              "    .dataframe thead th {\n",
              "        text-align: right;\n",
              "    }\n",
              "</style>\n",
              "<table border=\"1\" class=\"dataframe\">\n",
              "  <thead>\n",
              "    <tr style=\"text-align: right;\">\n",
              "      <th></th>\n",
              "      <th>Unnamed: 0</th>\n",
              "      <th>title</th>\n",
              "      <th>body</th>\n",
              "      <th>label</th>\n",
              "      <th>clean_body</th>\n",
              "      <th>clean_body_str</th>\n",
              "      <th>tokenized</th>\n",
              "      <th>pos_tags</th>\n",
              "    </tr>\n",
              "  </thead>\n",
              "  <tbody>\n",
              "    <tr>\n",
              "      <th>0</th>\n",
              "      <td>0</td>\n",
              "      <td>Fuck that Bell!</td>\n",
              "      <td>Sorry for the title, but I wish the bell ringi...</td>\n",
              "      <td>6.0</td>\n",
              "      <td>['fuck', 'bell', 'sorry', 'title', 'wish', 'be...</td>\n",
              "      <td>fuck bell sorry title wish bell ringing party ...</td>\n",
              "      <td>[fuck, bell, sorry, title, wish, bell, ringing...</td>\n",
              "      <td>[(fuck, NN), (bell, NN), (sorry, JJ), (title, ...</td>\n",
              "    </tr>\n",
              "    <tr>\n",
              "      <th>1</th>\n",
              "      <td>1</td>\n",
              "      <td>Father suffering from end stage aggression. Wo...</td>\n",
              "      <td>My dad was diagnosed with stage 4 bone cancer ...</td>\n",
              "      <td>7.0</td>\n",
              "      <td>['famrel', 'suffering', 'end', 'stage', 'aggre...</td>\n",
              "      <td>famrel suffering end stage aggression will not...</td>\n",
              "      <td>[famrel, suffering, end, stage, aggression, wi...</td>\n",
              "      <td>[(famrel, NN), (suffering, VBG), (end, NN), (s...</td>\n",
              "    </tr>\n",
              "    <tr>\n",
              "      <th>2</th>\n",
              "      <td>2</td>\n",
              "      <td>last chemo was today :)</td>\n",
              "      <td>just finished my last of 12 abvd infusions. I ...</td>\n",
              "      <td>2.0</td>\n",
              "      <td>['last', 'chemo', 'today', 'just', 'finished',...</td>\n",
              "      <td>last chemo today just finished last number abv...</td>\n",
              "      <td>[last, chemo, today, just, finished, last, num...</td>\n",
              "      <td>[(last, JJ), (chemo, NN), (today, NN), (just, ...</td>\n",
              "    </tr>\n",
              "    <tr>\n",
              "      <th>3</th>\n",
              "      <td>3</td>\n",
              "      <td>ER phobia?</td>\n",
              "      <td>Have any of your loved ones checked out of the...</td>\n",
              "      <td>7.0</td>\n",
              "      <td>['er', 'phobia', 'any', 'loved', 'numbers', 'c...</td>\n",
              "      <td>er phobia any loved numbers checked out hospit...</td>\n",
              "      <td>[er, phobia, any, loved, numbers, checked, out...</td>\n",
              "      <td>[(er, RB), (phobia, VBZ), (any, DT), (loved, J...</td>\n",
              "    </tr>\n",
              "    <tr>\n",
              "      <th>4</th>\n",
              "      <td>4</td>\n",
              "      <td>8 minutes into his appointment, another scene ...</td>\n",
              "      <td>At this point itâs just funny to me. Iâm n...</td>\n",
              "      <td>3.0</td>\n",
              "      <td>['number', 'minutes', 'appointment', 'another'...</td>\n",
              "      <td>number minutes appointment another scene made ...</td>\n",
              "      <td>[number, minutes, appointment, another, scene,...</td>\n",
              "      <td>[(number, NN), (minutes, NNS), (appointment, V...</td>\n",
              "    </tr>\n",
              "  </tbody>\n",
              "</table>\n",
              "</div>"
            ],
            "text/plain": [
              "   Unnamed: 0  ...                                           pos_tags\n",
              "0           0  ...  [(fuck, NN), (bell, NN), (sorry, JJ), (title, ...\n",
              "1           1  ...  [(famrel, NN), (suffering, VBG), (end, NN), (s...\n",
              "2           2  ...  [(last, JJ), (chemo, NN), (today, NN), (just, ...\n",
              "3           3  ...  [(er, RB), (phobia, VBZ), (any, DT), (loved, J...\n",
              "4           4  ...  [(number, NN), (minutes, NNS), (appointment, V...\n",
              "\n",
              "[5 rows x 8 columns]"
            ]
          },
          "metadata": {
            "tags": []
          },
          "execution_count": 132
        }
      ]
    },
    {
      "cell_type": "code",
      "metadata": {
        "colab": {
          "base_uri": "https://localhost:8080/",
          "height": 476
        },
        "id": "KIefUbviNrRS",
        "outputId": "9acc7621-adbf-457b-b85e-6a93efa81c71"
      },
      "source": [
        "corpus['wordnet_pos'] = corpus['pos_tags'].apply(lambda x: [(word, get_wordnet_pos(pos_tag)) for (word, pos_tag) in x])\n",
        "corpus.head()"
      ],
      "execution_count": null,
      "outputs": [
        {
          "output_type": "execute_result",
          "data": {
            "text/html": [
              "<div>\n",
              "<style scoped>\n",
              "    .dataframe tbody tr th:only-of-type {\n",
              "        vertical-align: middle;\n",
              "    }\n",
              "\n",
              "    .dataframe tbody tr th {\n",
              "        vertical-align: top;\n",
              "    }\n",
              "\n",
              "    .dataframe thead th {\n",
              "        text-align: right;\n",
              "    }\n",
              "</style>\n",
              "<table border=\"1\" class=\"dataframe\">\n",
              "  <thead>\n",
              "    <tr style=\"text-align: right;\">\n",
              "      <th></th>\n",
              "      <th>Unnamed: 0</th>\n",
              "      <th>title</th>\n",
              "      <th>body</th>\n",
              "      <th>label</th>\n",
              "      <th>clean_body</th>\n",
              "      <th>clean_body_str</th>\n",
              "      <th>tokenized</th>\n",
              "      <th>pos_tags</th>\n",
              "      <th>wordnet_pos</th>\n",
              "    </tr>\n",
              "  </thead>\n",
              "  <tbody>\n",
              "    <tr>\n",
              "      <th>0</th>\n",
              "      <td>0</td>\n",
              "      <td>Fuck that Bell!</td>\n",
              "      <td>Sorry for the title, but I wish the bell ringi...</td>\n",
              "      <td>6.0</td>\n",
              "      <td>['fuck', 'bell', 'sorry', 'title', 'wish', 'be...</td>\n",
              "      <td>fuck bell sorry title wish bell ringing party ...</td>\n",
              "      <td>[fuck, bell, sorry, title, wish, bell, ringing...</td>\n",
              "      <td>[(fuck, NN), (bell, NN), (sorry, JJ), (title, ...</td>\n",
              "      <td>[(fuck, n), (bell, n), (sorry, a), (title, n),...</td>\n",
              "    </tr>\n",
              "    <tr>\n",
              "      <th>1</th>\n",
              "      <td>1</td>\n",
              "      <td>Father suffering from end stage aggression. Wo...</td>\n",
              "      <td>My dad was diagnosed with stage 4 bone cancer ...</td>\n",
              "      <td>7.0</td>\n",
              "      <td>['famrel', 'suffering', 'end', 'stage', 'aggre...</td>\n",
              "      <td>famrel suffering end stage aggression will not...</td>\n",
              "      <td>[famrel, suffering, end, stage, aggression, wi...</td>\n",
              "      <td>[(famrel, NN), (suffering, VBG), (end, NN), (s...</td>\n",
              "      <td>[(famrel, n), (suffering, v), (end, n), (stage...</td>\n",
              "    </tr>\n",
              "    <tr>\n",
              "      <th>2</th>\n",
              "      <td>2</td>\n",
              "      <td>last chemo was today :)</td>\n",
              "      <td>just finished my last of 12 abvd infusions. I ...</td>\n",
              "      <td>2.0</td>\n",
              "      <td>['last', 'chemo', 'today', 'just', 'finished',...</td>\n",
              "      <td>last chemo today just finished last number abv...</td>\n",
              "      <td>[last, chemo, today, just, finished, last, num...</td>\n",
              "      <td>[(last, JJ), (chemo, NN), (today, NN), (just, ...</td>\n",
              "      <td>[(last, a), (chemo, n), (today, n), (just, r),...</td>\n",
              "    </tr>\n",
              "    <tr>\n",
              "      <th>3</th>\n",
              "      <td>3</td>\n",
              "      <td>ER phobia?</td>\n",
              "      <td>Have any of your loved ones checked out of the...</td>\n",
              "      <td>7.0</td>\n",
              "      <td>['er', 'phobia', 'any', 'loved', 'numbers', 'c...</td>\n",
              "      <td>er phobia any loved numbers checked out hospit...</td>\n",
              "      <td>[er, phobia, any, loved, numbers, checked, out...</td>\n",
              "      <td>[(er, RB), (phobia, VBZ), (any, DT), (loved, J...</td>\n",
              "      <td>[(er, r), (phobia, v), (any, n), (loved, a), (...</td>\n",
              "    </tr>\n",
              "    <tr>\n",
              "      <th>4</th>\n",
              "      <td>4</td>\n",
              "      <td>8 minutes into his appointment, another scene ...</td>\n",
              "      <td>At this point itâs just funny to me. Iâm n...</td>\n",
              "      <td>3.0</td>\n",
              "      <td>['number', 'minutes', 'appointment', 'another'...</td>\n",
              "      <td>number minutes appointment another scene made ...</td>\n",
              "      <td>[number, minutes, appointment, another, scene,...</td>\n",
              "      <td>[(number, NN), (minutes, NNS), (appointment, V...</td>\n",
              "      <td>[(number, n), (minutes, n), (appointment, v), ...</td>\n",
              "    </tr>\n",
              "  </tbody>\n",
              "</table>\n",
              "</div>"
            ],
            "text/plain": [
              "   Unnamed: 0  ...                                        wordnet_pos\n",
              "0           0  ...  [(fuck, n), (bell, n), (sorry, a), (title, n),...\n",
              "1           1  ...  [(famrel, n), (suffering, v), (end, n), (stage...\n",
              "2           2  ...  [(last, a), (chemo, n), (today, n), (just, r),...\n",
              "3           3  ...  [(er, r), (phobia, v), (any, n), (loved, a), (...\n",
              "4           4  ...  [(number, n), (minutes, n), (appointment, v), ...\n",
              "\n",
              "[5 rows x 9 columns]"
            ]
          },
          "metadata": {
            "tags": []
          },
          "execution_count": 133
        }
      ]
    },
    {
      "cell_type": "code",
      "metadata": {
        "colab": {
          "base_uri": "https://localhost:8080/",
          "height": 544
        },
        "id": "5cUxFrBMOQks",
        "outputId": "df9b3dcd-dc64-4e69-91b7-840f5a3932f3"
      },
      "source": [
        "#Lemmatization\n",
        "wnl = WordNetLemmatizer()\n",
        "corpus['lemmatized'] = corpus['wordnet_pos'].apply(lambda x: [wnl.lemmatize(word, tag) for word, tag in x])\n",
        "corpus.head()"
      ],
      "execution_count": null,
      "outputs": [
        {
          "output_type": "execute_result",
          "data": {
            "text/html": [
              "<div>\n",
              "<style scoped>\n",
              "    .dataframe tbody tr th:only-of-type {\n",
              "        vertical-align: middle;\n",
              "    }\n",
              "\n",
              "    .dataframe tbody tr th {\n",
              "        vertical-align: top;\n",
              "    }\n",
              "\n",
              "    .dataframe thead th {\n",
              "        text-align: right;\n",
              "    }\n",
              "</style>\n",
              "<table border=\"1\" class=\"dataframe\">\n",
              "  <thead>\n",
              "    <tr style=\"text-align: right;\">\n",
              "      <th></th>\n",
              "      <th>Unnamed: 0</th>\n",
              "      <th>title</th>\n",
              "      <th>body</th>\n",
              "      <th>label</th>\n",
              "      <th>clean_body</th>\n",
              "      <th>clean_body_str</th>\n",
              "      <th>tokenized</th>\n",
              "      <th>pos_tags</th>\n",
              "      <th>wordnet_pos</th>\n",
              "      <th>lemmatized</th>\n",
              "    </tr>\n",
              "  </thead>\n",
              "  <tbody>\n",
              "    <tr>\n",
              "      <th>0</th>\n",
              "      <td>0</td>\n",
              "      <td>Fuck that Bell!</td>\n",
              "      <td>Sorry for the title, but I wish the bell ringi...</td>\n",
              "      <td>6.0</td>\n",
              "      <td>['fuck', 'bell', 'sorry', 'title', 'wish', 'be...</td>\n",
              "      <td>fuck bell sorry title wish bell ringing party ...</td>\n",
              "      <td>[fuck, bell, sorry, title, wish, bell, ringing...</td>\n",
              "      <td>[(fuck, NN), (bell, NN), (sorry, JJ), (title, ...</td>\n",
              "      <td>[(fuck, n), (bell, n), (sorry, a), (title, n),...</td>\n",
              "      <td>[fuck, bell, sorry, title, wish, bell, ring, p...</td>\n",
              "    </tr>\n",
              "    <tr>\n",
              "      <th>1</th>\n",
              "      <td>1</td>\n",
              "      <td>Father suffering from end stage aggression. Wo...</td>\n",
              "      <td>My dad was diagnosed with stage 4 bone cancer ...</td>\n",
              "      <td>7.0</td>\n",
              "      <td>['famrel', 'suffering', 'end', 'stage', 'aggre...</td>\n",
              "      <td>famrel suffering end stage aggression will not...</td>\n",
              "      <td>[famrel, suffering, end, stage, aggression, wi...</td>\n",
              "      <td>[(famrel, NN), (suffering, VBG), (end, NN), (s...</td>\n",
              "      <td>[(famrel, n), (suffering, v), (end, n), (stage...</td>\n",
              "      <td>[famrel, suffer, end, stage, aggression, will,...</td>\n",
              "    </tr>\n",
              "    <tr>\n",
              "      <th>2</th>\n",
              "      <td>2</td>\n",
              "      <td>last chemo was today :)</td>\n",
              "      <td>just finished my last of 12 abvd infusions. I ...</td>\n",
              "      <td>2.0</td>\n",
              "      <td>['last', 'chemo', 'today', 'just', 'finished',...</td>\n",
              "      <td>last chemo today just finished last number abv...</td>\n",
              "      <td>[last, chemo, today, just, finished, last, num...</td>\n",
              "      <td>[(last, JJ), (chemo, NN), (today, NN), (just, ...</td>\n",
              "      <td>[(last, a), (chemo, n), (today, n), (just, r),...</td>\n",
              "      <td>[last, chemo, today, just, finish, last, numbe...</td>\n",
              "    </tr>\n",
              "    <tr>\n",
              "      <th>3</th>\n",
              "      <td>3</td>\n",
              "      <td>ER phobia?</td>\n",
              "      <td>Have any of your loved ones checked out of the...</td>\n",
              "      <td>7.0</td>\n",
              "      <td>['er', 'phobia', 'any', 'loved', 'numbers', 'c...</td>\n",
              "      <td>er phobia any loved numbers checked out hospit...</td>\n",
              "      <td>[er, phobia, any, loved, numbers, checked, out...</td>\n",
              "      <td>[(er, RB), (phobia, VBZ), (any, DT), (loved, J...</td>\n",
              "      <td>[(er, r), (phobia, v), (any, n), (loved, a), (...</td>\n",
              "      <td>[er, phobia, any, loved, number, check, out, h...</td>\n",
              "    </tr>\n",
              "    <tr>\n",
              "      <th>4</th>\n",
              "      <td>4</td>\n",
              "      <td>8 minutes into his appointment, another scene ...</td>\n",
              "      <td>At this point itâs just funny to me. Iâm n...</td>\n",
              "      <td>3.0</td>\n",
              "      <td>['number', 'minutes', 'appointment', 'another'...</td>\n",
              "      <td>number minutes appointment another scene made ...</td>\n",
              "      <td>[number, minutes, appointment, another, scene,...</td>\n",
              "      <td>[(number, NN), (minutes, NNS), (appointment, V...</td>\n",
              "      <td>[(number, n), (minutes, n), (appointment, v), ...</td>\n",
              "      <td>[number, minute, appointment, another, scene, ...</td>\n",
              "    </tr>\n",
              "  </tbody>\n",
              "</table>\n",
              "</div>"
            ],
            "text/plain": [
              "   Unnamed: 0  ...                                         lemmatized\n",
              "0           0  ...  [fuck, bell, sorry, title, wish, bell, ring, p...\n",
              "1           1  ...  [famrel, suffer, end, stage, aggression, will,...\n",
              "2           2  ...  [last, chemo, today, just, finish, last, numbe...\n",
              "3           3  ...  [er, phobia, any, loved, number, check, out, h...\n",
              "4           4  ...  [number, minute, appointment, another, scene, ...\n",
              "\n",
              "[5 rows x 10 columns]"
            ]
          },
          "metadata": {
            "tags": []
          },
          "execution_count": 134
        }
      ]
    },
    {
      "cell_type": "code",
      "metadata": {
        "colab": {
          "base_uri": "https://localhost:8080/",
          "height": 683
        },
        "id": "QLnplKiHiRXn",
        "outputId": "bc9042a9-2da7-4a6a-98c9-6943cd1e7c96"
      },
      "source": [
        "#Add Lemma Str column\n",
        "corpus['lemma_str'] = [' '.join(map(str,l)) for l in corpus['lemmatized']]\n",
        "corpus.head()"
      ],
      "execution_count": null,
      "outputs": [
        {
          "output_type": "execute_result",
          "data": {
            "text/html": [
              "<div>\n",
              "<style scoped>\n",
              "    .dataframe tbody tr th:only-of-type {\n",
              "        vertical-align: middle;\n",
              "    }\n",
              "\n",
              "    .dataframe tbody tr th {\n",
              "        vertical-align: top;\n",
              "    }\n",
              "\n",
              "    .dataframe thead th {\n",
              "        text-align: right;\n",
              "    }\n",
              "</style>\n",
              "<table border=\"1\" class=\"dataframe\">\n",
              "  <thead>\n",
              "    <tr style=\"text-align: right;\">\n",
              "      <th></th>\n",
              "      <th>Unnamed: 0</th>\n",
              "      <th>title</th>\n",
              "      <th>body</th>\n",
              "      <th>label</th>\n",
              "      <th>clean_body</th>\n",
              "      <th>clean_body_str</th>\n",
              "      <th>tokenized</th>\n",
              "      <th>pos_tags</th>\n",
              "      <th>wordnet_pos</th>\n",
              "      <th>lemmatized</th>\n",
              "      <th>lemma_str</th>\n",
              "    </tr>\n",
              "  </thead>\n",
              "  <tbody>\n",
              "    <tr>\n",
              "      <th>0</th>\n",
              "      <td>0</td>\n",
              "      <td>Fuck that Bell!</td>\n",
              "      <td>Sorry for the title, but I wish the bell ringi...</td>\n",
              "      <td>6.0</td>\n",
              "      <td>['fuck', 'bell', 'sorry', 'title', 'wish', 'be...</td>\n",
              "      <td>fuck bell sorry title wish bell ringing party ...</td>\n",
              "      <td>[fuck, bell, sorry, title, wish, bell, ringing...</td>\n",
              "      <td>[(fuck, NN), (bell, NN), (sorry, JJ), (title, ...</td>\n",
              "      <td>[(fuck, n), (bell, n), (sorry, a), (title, n),...</td>\n",
              "      <td>[fuck, bell, sorry, title, wish, bell, ring, p...</td>\n",
              "      <td>fuck bell sorry title wish bell ring party mus...</td>\n",
              "    </tr>\n",
              "    <tr>\n",
              "      <th>1</th>\n",
              "      <td>1</td>\n",
              "      <td>Father suffering from end stage aggression. Wo...</td>\n",
              "      <td>My dad was diagnosed with stage 4 bone cancer ...</td>\n",
              "      <td>7.0</td>\n",
              "      <td>['famrel', 'suffering', 'end', 'stage', 'aggre...</td>\n",
              "      <td>famrel suffering end stage aggression will not...</td>\n",
              "      <td>[famrel, suffering, end, stage, aggression, wi...</td>\n",
              "      <td>[(famrel, NN), (suffering, VBG), (end, NN), (s...</td>\n",
              "      <td>[(famrel, n), (suffering, v), (end, n), (stage...</td>\n",
              "      <td>[famrel, suffer, end, stage, aggression, will,...</td>\n",
              "      <td>famrel suffer end stage aggression will not ta...</td>\n",
              "    </tr>\n",
              "    <tr>\n",
              "      <th>2</th>\n",
              "      <td>2</td>\n",
              "      <td>last chemo was today :)</td>\n",
              "      <td>just finished my last of 12 abvd infusions. I ...</td>\n",
              "      <td>2.0</td>\n",
              "      <td>['last', 'chemo', 'today', 'just', 'finished',...</td>\n",
              "      <td>last chemo today just finished last number abv...</td>\n",
              "      <td>[last, chemo, today, just, finished, last, num...</td>\n",
              "      <td>[(last, JJ), (chemo, NN), (today, NN), (just, ...</td>\n",
              "      <td>[(last, a), (chemo, n), (today, n), (just, r),...</td>\n",
              "      <td>[last, chemo, today, just, finish, last, numbe...</td>\n",
              "      <td>last chemo today just finish last number abvd ...</td>\n",
              "    </tr>\n",
              "    <tr>\n",
              "      <th>3</th>\n",
              "      <td>3</td>\n",
              "      <td>ER phobia?</td>\n",
              "      <td>Have any of your loved ones checked out of the...</td>\n",
              "      <td>7.0</td>\n",
              "      <td>['er', 'phobia', 'any', 'loved', 'numbers', 'c...</td>\n",
              "      <td>er phobia any loved numbers checked out hospit...</td>\n",
              "      <td>[er, phobia, any, loved, numbers, checked, out...</td>\n",
              "      <td>[(er, RB), (phobia, VBZ), (any, DT), (loved, J...</td>\n",
              "      <td>[(er, r), (phobia, v), (any, n), (loved, a), (...</td>\n",
              "      <td>[er, phobia, any, loved, number, check, out, h...</td>\n",
              "      <td>er phobia any loved number check out hospital ...</td>\n",
              "    </tr>\n",
              "    <tr>\n",
              "      <th>4</th>\n",
              "      <td>4</td>\n",
              "      <td>8 minutes into his appointment, another scene ...</td>\n",
              "      <td>At this point itâs just funny to me. Iâm n...</td>\n",
              "      <td>3.0</td>\n",
              "      <td>['number', 'minutes', 'appointment', 'another'...</td>\n",
              "      <td>number minutes appointment another scene made ...</td>\n",
              "      <td>[number, minutes, appointment, another, scene,...</td>\n",
              "      <td>[(number, NN), (minutes, NNS), (appointment, V...</td>\n",
              "      <td>[(number, n), (minutes, n), (appointment, v), ...</td>\n",
              "      <td>[number, minute, appointment, another, scene, ...</td>\n",
              "      <td>number minute appointment another scene make p...</td>\n",
              "    </tr>\n",
              "  </tbody>\n",
              "</table>\n",
              "</div>"
            ],
            "text/plain": [
              "   Unnamed: 0  ...                                          lemma_str\n",
              "0           0  ...  fuck bell sorry title wish bell ring party mus...\n",
              "1           1  ...  famrel suffer end stage aggression will not ta...\n",
              "2           2  ...  last chemo today just finish last number abvd ...\n",
              "3           3  ...  er phobia any loved number check out hospital ...\n",
              "4           4  ...  number minute appointment another scene make p...\n",
              "\n",
              "[5 rows x 11 columns]"
            ]
          },
          "metadata": {
            "tags": []
          },
          "execution_count": 135
        }
      ]
    },
    {
      "cell_type": "code",
      "metadata": {
        "id": "embaFM2Dywvb"
      },
      "source": [
        "#Merge"
      ],
      "execution_count": null,
      "outputs": []
    },
    {
      "cell_type": "code",
      "metadata": {
        "colab": {
          "base_uri": "https://localhost:8080/",
          "height": 683
        },
        "id": "oAAfvjK_GARb",
        "outputId": "ac933937-b430-48d2-fbec-dd3f3c614555"
      },
      "source": [
        "labels = [9,8,0,7,2,3,4,5,6,1]\n",
        "df = corpus.query('label in @labels')\n",
        "df['label'] = df['label'].replace([2,3,4,5,6,1], 1)\n",
        "df.head()\n"
      ],
      "execution_count": null,
      "outputs": [
        {
          "output_type": "execute_result",
          "data": {
            "text/html": [
              "<div>\n",
              "<style scoped>\n",
              "    .dataframe tbody tr th:only-of-type {\n",
              "        vertical-align: middle;\n",
              "    }\n",
              "\n",
              "    .dataframe tbody tr th {\n",
              "        vertical-align: top;\n",
              "    }\n",
              "\n",
              "    .dataframe thead th {\n",
              "        text-align: right;\n",
              "    }\n",
              "</style>\n",
              "<table border=\"1\" class=\"dataframe\">\n",
              "  <thead>\n",
              "    <tr style=\"text-align: right;\">\n",
              "      <th></th>\n",
              "      <th>Unnamed: 0</th>\n",
              "      <th>title</th>\n",
              "      <th>body</th>\n",
              "      <th>label</th>\n",
              "      <th>clean_body</th>\n",
              "      <th>clean_body_str</th>\n",
              "      <th>tokenized</th>\n",
              "      <th>pos_tags</th>\n",
              "      <th>wordnet_pos</th>\n",
              "      <th>lemmatized</th>\n",
              "      <th>lemma_str</th>\n",
              "    </tr>\n",
              "  </thead>\n",
              "  <tbody>\n",
              "    <tr>\n",
              "      <th>0</th>\n",
              "      <td>0</td>\n",
              "      <td>Fuck that Bell!</td>\n",
              "      <td>Sorry for the title, but I wish the bell ringi...</td>\n",
              "      <td>1.0</td>\n",
              "      <td>['fuck', 'bell', 'sorry', 'title', 'wish', 'be...</td>\n",
              "      <td>fuck bell sorry title wish bell ringing party ...</td>\n",
              "      <td>[fuck, bell, sorry, title, wish, bell, ringing...</td>\n",
              "      <td>[(fuck, NN), (bell, NN), (sorry, JJ), (title, ...</td>\n",
              "      <td>[(fuck, n), (bell, n), (sorry, a), (title, n),...</td>\n",
              "      <td>[fuck, bell, sorry, title, wish, bell, ring, p...</td>\n",
              "      <td>fuck bell sorry title wish bell ring party mus...</td>\n",
              "    </tr>\n",
              "    <tr>\n",
              "      <th>1</th>\n",
              "      <td>1</td>\n",
              "      <td>Father suffering from end stage aggression. Wo...</td>\n",
              "      <td>My dad was diagnosed with stage 4 bone cancer ...</td>\n",
              "      <td>7.0</td>\n",
              "      <td>['famrel', 'suffering', 'end', 'stage', 'aggre...</td>\n",
              "      <td>famrel suffering end stage aggression will not...</td>\n",
              "      <td>[famrel, suffering, end, stage, aggression, wi...</td>\n",
              "      <td>[(famrel, NN), (suffering, VBG), (end, NN), (s...</td>\n",
              "      <td>[(famrel, n), (suffering, v), (end, n), (stage...</td>\n",
              "      <td>[famrel, suffer, end, stage, aggression, will,...</td>\n",
              "      <td>famrel suffer end stage aggression will not ta...</td>\n",
              "    </tr>\n",
              "    <tr>\n",
              "      <th>2</th>\n",
              "      <td>2</td>\n",
              "      <td>last chemo was today :)</td>\n",
              "      <td>just finished my last of 12 abvd infusions. I ...</td>\n",
              "      <td>1.0</td>\n",
              "      <td>['last', 'chemo', 'today', 'just', 'finished',...</td>\n",
              "      <td>last chemo today just finished last number abv...</td>\n",
              "      <td>[last, chemo, today, just, finished, last, num...</td>\n",
              "      <td>[(last, JJ), (chemo, NN), (today, NN), (just, ...</td>\n",
              "      <td>[(last, a), (chemo, n), (today, n), (just, r),...</td>\n",
              "      <td>[last, chemo, today, just, finish, last, numbe...</td>\n",
              "      <td>last chemo today just finish last number abvd ...</td>\n",
              "    </tr>\n",
              "    <tr>\n",
              "      <th>3</th>\n",
              "      <td>3</td>\n",
              "      <td>ER phobia?</td>\n",
              "      <td>Have any of your loved ones checked out of the...</td>\n",
              "      <td>7.0</td>\n",
              "      <td>['er', 'phobia', 'any', 'loved', 'numbers', 'c...</td>\n",
              "      <td>er phobia any loved numbers checked out hospit...</td>\n",
              "      <td>[er, phobia, any, loved, numbers, checked, out...</td>\n",
              "      <td>[(er, RB), (phobia, VBZ), (any, DT), (loved, J...</td>\n",
              "      <td>[(er, r), (phobia, v), (any, n), (loved, a), (...</td>\n",
              "      <td>[er, phobia, any, loved, number, check, out, h...</td>\n",
              "      <td>er phobia any loved number check out hospital ...</td>\n",
              "    </tr>\n",
              "    <tr>\n",
              "      <th>4</th>\n",
              "      <td>4</td>\n",
              "      <td>8 minutes into his appointment, another scene ...</td>\n",
              "      <td>At this point itâs just funny to me. Iâm n...</td>\n",
              "      <td>1.0</td>\n",
              "      <td>['number', 'minutes', 'appointment', 'another'...</td>\n",
              "      <td>number minutes appointment another scene made ...</td>\n",
              "      <td>[number, minutes, appointment, another, scene,...</td>\n",
              "      <td>[(number, NN), (minutes, NNS), (appointment, V...</td>\n",
              "      <td>[(number, n), (minutes, n), (appointment, v), ...</td>\n",
              "      <td>[number, minute, appointment, another, scene, ...</td>\n",
              "      <td>number minute appointment another scene make p...</td>\n",
              "    </tr>\n",
              "  </tbody>\n",
              "</table>\n",
              "</div>"
            ],
            "text/plain": [
              "   Unnamed: 0  ...                                          lemma_str\n",
              "0           0  ...  fuck bell sorry title wish bell ring party mus...\n",
              "1           1  ...  famrel suffer end stage aggression will not ta...\n",
              "2           2  ...  last chemo today just finish last number abvd ...\n",
              "3           3  ...  er phobia any loved number check out hospital ...\n",
              "4           4  ...  number minute appointment another scene make p...\n",
              "\n",
              "[5 rows x 11 columns]"
            ]
          },
          "metadata": {
            "tags": []
          },
          "execution_count": 296
        }
      ]
    },
    {
      "cell_type": "code",
      "metadata": {
        "id": "LVPMRhrqL_qq"
      },
      "source": [
        "Train_X = None\n",
        "Train_Y = None\n",
        "Test_X = None\n",
        "Test_Y = None\n",
        "Train_X, Test_X, Train_Y, Test_Y = model_selection.train_test_split(df['lemma_str'],df['label'],test_size=0.2)"
      ],
      "execution_count": null,
      "outputs": []
    },
    {
      "cell_type": "code",
      "metadata": {
        "id": "3fWpqbQeOrp2"
      },
      "source": [
        "Encoder=None\n",
        "Encoder = LabelEncoder()\n",
        "Train_Y = Encoder.fit_transform(Train_Y)\n",
        "Test_Y = Encoder.fit_transform(Test_Y)"
      ],
      "execution_count": null,
      "outputs": []
    },
    {
      "cell_type": "code",
      "metadata": {
        "colab": {
          "base_uri": "https://localhost:8080/"
        },
        "id": "lyNKxkE9Pp0b",
        "outputId": "0fbbe5de-93fb-4dac-e4d1-2234bb4c785c"
      },
      "source": [
        "from sklearn.feature_extraction.text import CountVectorizer\n",
        "count_vect=None\n",
        "count_vect = CountVectorizer(lowercase=False)\n",
        "X_train_counts = count_vect.fit_transform(df['lemma_str'].tolist())\n",
        "X_train_counts.shape"
      ],
      "execution_count": null,
      "outputs": [
        {
          "output_type": "execute_result",
          "data": {
            "text/plain": [
              "(704, 6653)"
            ]
          },
          "metadata": {
            "tags": []
          },
          "execution_count": 299
        }
      ]
    },
    {
      "cell_type": "code",
      "metadata": {
        "id": "xyOsvyUQirmt"
      },
      "source": [
        "Tfidf_vect=None\n",
        "Tfidf_vect = TfidfVectorizer(max_features=5000)\n",
        "Tfidf_vect.fit(df['lemma_str'])\n",
        "Train_X_Tfidf = Tfidf_vect.transform(Train_X)\n",
        "Test_X_Tfidf = Tfidf_vect.transform(Test_X)"
      ],
      "execution_count": null,
      "outputs": []
    },
    {
      "cell_type": "code",
      "metadata": {
        "colab": {
          "base_uri": "https://localhost:8080/"
        },
        "id": "OKpBA94Ciwg2",
        "outputId": "20fec7af-cb37-4ab3-a4d3-cd809a747a48"
      },
      "source": [
        "print(Tfidf_vect.vocabulary_)\n",
        "print(Train_X_Tfidf.shape)"
      ],
      "execution_count": null,
      "outputs": [
        {
          "output_type": "stream",
          "text": [
            "{'fuck': 1787, 'bell': 311, 'sorry': 3819, 'title': 4333, 'wish': 4880, 'ring': 3384, 'party': 2714, 'music': 2477, 'celebration': 498, 'last': 2209, 'round': 3415, 'chemo': 525, 'will': 4867, 'stop': 3981, 'friend': 1776, 'fight': 1619, 'life': 2253, 'number': 2564, 'week': 4804, 'after': 67, 'get': 1829, 'complete': 614, 'make': 2337, 'less': 2240, 'than': 4234, 'because': 294, 'have': 1932, 'be': 282, 'icu': 2044, 'since': 3695, 'dayofweek': 857, 'cancer': 457, 'do': 1120, 'not': 2551, 'remission': 3264, 'ned': 2505, 'all': 92, 'huge': 2031, 'thing': 4264, 'about': 7, 'emergency': 1294, 'operation': 2642, 'tumor': 4464, 'grow': 1896, 'block': 356, 'colon': 587, 'could': 712, 'pass': 2716, 'anything': 146, 'gas': 1815, 'solids': 3789, 'nothing': 2553, 'now': 2556, 'on': 2627, 'machine': 2328, 'keep': 2175, 'breathe': 407, 'lung': 2321, 'shot': 3650, 'oncologist': 2630, 'smoking': 3753, 'body': 371, 'able': 4, 'take': 4158, 'stress': 4001, 'night': 2531, 'first': 1652, 'time': 4315, 'wake': 4761, 'up': 4617, 'coma': 593, 'famrel': 1533, 'say': 3474, 'can': 454, 'understand': 4533, 'what': 4825, 'go': 1843, 'why': 4858, 'tube': 4462, 'every': 1410, 'hole': 1989, 'doctor': 1122, 'colostomy': 592, 'fuss': 1802, 'false': 1526, 'hope': 2002, 'give': 1834, 'dnumber': 1119, 'few': 1608, 'day': 852, 'later': 2212, 'almost': 95, 'out': 2666, 'kindly': 2187, 'refuse': 3201, 'loud': 2306, 'find': 1641, 'cure': 800, 'celebrate': 497, 'suffer': 4060, 'end': 1319, 'stage': 3912, 'aggression': 74, 'pain': 2692, 'med': 2372, 'think': 4268, 'con': 624, 'somehow': 3797, 'happen': 1920, 'suddenly': 4058, 'advice': 58, 'please': 2786, 'diagnose': 999, 'bnumber': 367, 'month': 2450, 'decision': 891, 'put': 3019, 'hospice': 2013, 'ago': 76, 'finally': 1637, 'he': 1933, 'wait': 4758, 'slept': 3727, 'famrelâ': 1550, 'eat': 1236, 'grandma': 1872, 'happy': 1924, 'normal': 2547, 'self': 3545, 'even': 1404, 'move': 2467, 'hospital': 2014, 'bed': 297, 'set': 3592, 'living': 2278, 'room': 3406, 'step': 3951, 'stand': 3921, 'own': 2683, 'lift': 2258, 'foot': 1712, 'lot': 2304, 'work': 4909, 'new': 2523, 'become': 295, 'completely': 615, 'different': 1023, 'allow': 94, 'help': 1954, 'clean': 556, 'way': 4792, 'so': 3767, 'start': 3930, 'attempt': 213, 'more': 2455, 'lucid': 2314, 'confused': 640, 'accept': 15, 'death': 875, 'hard': 1925, 'change': 509, 'remember': 3258, 'where': 4834, 'table': 4152, 'urinal': 4643, 'random': 3075, 'absolutely': 12, 'no': 2534, 'sense': 3569, 'bad': 255, 'part': 2707, 'longer': 2292, 'trust': 4456, 'mean': 2366, 'insult': 2125, 'try': 4461, 'innumbertionally': 2111, 'know': 2196, 'it': 2151, 'perfamrelally': 2741, 'calm': 450, 'down': 1146, 'anxiety': 140, 'when': 4832, 'talk': 4162, 'quiet': 3038, 'voice': 4743, 'sound': 3828, 'like': 2260, 'embarrass': 1290, 'boss': 381, 'around': 181, 'just': 2172, 'back': 251, 'right': 3380, 'asks': 195, 'any': 142, 'good': 1851, 'somenumber': 3798, 'who': 4851, 'through': 4291, 'tremendous': 4436, 'thank': 4235, 'advance': 56, 'today': 4341, 'finish': 1647, 'infusion': 2100, 'feel': 1588, 'terrible': 4214, 'excited': 1447, 'track': 4397, 'subreddit': 4043, 'most': 2459, 'helpful': 1955, 'forum': 1746, 'totally': 4377, 'freak': 1760, 'also': 102, 'dump': 1200, 'much': 2472, 'love': 2307, 'best': 320, 'luck': 2315, 'treatment': 4431, 'er': 1374, 'phobia': 2753, 'loved': 2308, 'check': 517, 'ama': 108, 'against': 72, 'medical': 2374, 'want': 4773, 'live': 2276, 'some': 3794, 'reafamrels': 3126, 'sarcoma': 3467, 'mets': 2400, 'before': 302, 'clot': 571, 'admit': 51, 'blood': 359, 'chest': 529, 'alive': 91, 'swears': 4129, 'well': 4817, 'verbal': 4703, 'anymore': 144, 'signed': 3682, 'paper': 2702, 'everything': 1417, 'possible': 2839, 'however': 2026, 'should': 3651, 'promise': 2956, 'would': 4930, 'call': 449, 'ambulance': 111, 'need': 2506, 'advocate': 60, 'stick': 3959, 'might': 2408, 'actually': 35, 'similar': 3690, 'situation': 3708, 'appreciate': 167, 'regard': 3203, 'stuff': 4030, 'minute': 2421, 'appointment': 166, 'another': 132, 'scene': 3489, 'plus': 2793, 'idea': 2046, 'they': 4259, 'point': 2807, 'funny': 1799, 'throw': 4295, 'temper': 4205, 'tantrum': 4169, 'everynumber': 1413, 'uncomfortable': 4516, 'mad': 2329, 'lmao': 2279, 'ok': 2621, 'here': 1962, 'ct': 791, 'scan': 3479, 'nurse': 2594, 'tech': 4187, 'sure': 4095, 'use': 4650, 'picc': 2759, 'line': 2265, 'dye': 1216, 'show': 3656, 'uncertainty': 4514, 'panic': 2700, 'demand': 932, 'department': 943, 'regularly': 3218, 'deal': 870, 'phnumber': 2752, 'approval': 172, 'place': 2769, 'answer': 133, 'heat': 1948, 'come': 597, 'tell': 4202, 'verify': 4706, 'info': 2096, 'simple': 3692, 'question': 3032, 'which': 4839, 'piss': 2766, 'off': 2612, 'far': 1555, 'name': 2485, 'birthday': 338, 'address': 43, 'ask': 194, 'oh': 2619, 'let': 2242, 'transfer': 4413, 'else': 1284, 'already': 100, 'little': 2275, 'shock': 3633, 'nnumber': 2533, 'staff': 3909, 'transplant': 4418, 'arm': 180, 'metastasize': 2397, 'outside': 2670, 'gi': 1830, 'tract': 4398, 'previous': 2914, 'post': 2842, 'couple': 723, 'cancerous': 458, 'carcinoid': 468, 'exact': 1431, 'appendix': 162, 'follow': 1706, 'tnumber': 4337, 'meaning': 2367, 'worry': 4922, 'detection': 977, 'spread': 3890, 'meet': 2380, 'clear': 558, 'though': 4280, 'perform': 2743, 'colonoscopy': 588, 'endoscopy': 1327, 'inside': 2116, 'preventative': 2912, 'okay': 2622, 'metastatic': 2398, 'femur': 1600, 'spoke': 3881, 'there': 4258, 'expect': 1470, 'manage': 2343, 'comfortable': 600, 'tomorrow': 4355, 'see': 3535, 'she': 3618, 'radiation': 3051, 'leg': 2232, 'amaze': 109, 'friendly': 1777, 'always': 107, 'unconditional': 4519, 'story': 3985, 'sad': 3440, 'quite': 3041, 'once': 2629, 'while': 4840, 'sub': 4039, 'full': 1791, 'heartbreaking': 1944, 'badly': 256, 'diagnosis': 1002, 'non': 2541, 'hodgkin': 1986, 'lymphoma': 2326, 'saw': 3473, 'lump': 2318, 'swell': 4137, 'eye': 1501, 'suppose': 4090, 'christmas': 543, 'uk': 4495, 'spend': 3861, 'pregnancy': 2886, 'brain': 397, 'likely': 2261, 'neuroblastoma': 2519, 'thankfully': 4237, 'case': 484, 'further': 1801, 'test': 4222, 'nhl': 2527, 'skull': 3717, 'news': 2525, 'lead': 2222, 'conversation': 678, 'strange': 3991, 'sennumberce': 3566, 'true': 4452, 'apparently': 159, 'low': 2312, 'comeback': 598, 'rate': 3094, 'high': 1971, 'cause': 492, 'horrible': 2010, 'side': 3675, 'effect': 1257, 'people': 2735, 'whose': 4857, 'journey': 2167, 'hop': 2001, 'meeting': 2381, 'officially': 2617, 'under': 4523, 'evidence': 1423, 'disease': 1073, 'doc': 1121, 'really': 3137, 'word': 4908, 'same': 3456, 'fit': 1656, 'lovely': 2309, 'year': 4962, 'old': 2624, 'ready': 3122, 'world': 4917, 'again': 71, 'strength': 3998, 'mobility': 2438, 'return': 3350, 'soon': 3811, 'only': 2633, 'reminders': 3262, 'episode': 1368, 'small': 3743, 'scar': 3482, 'remove': 3267, 'portcath': 2828, 'realise': 3128, 'ahead': 80, 'delay': 920, 'present': 2903, 'look': 2294, 'future': 1804, 'age': 73, 'those': 4279, 'read': 3116, 'yet': 4976, 'discourage': 1064, 'upset': 4630, 'happiness': 1923, 'fact': 1512, 'beanumber': 286, 'somewhere': 3807, 'real': 3127, 'home': 1994, 'famrels': 1549, 'young': 4985, 'bear': 287, 'water': 4790, 'break': 402, 'ward': 4777, 'mom': 2443, 'away': 242, 'multiple': 2474, 'myeloma': 2483, 'stem': 3950, 'cell': 499, 'result': 3339, 'second': 3522, 'due': 1196, 'weak': 4796, 'immune': 2064, 'system': 4149, 'septic': 3582, 'quick': 3035, 'hour': 2020, 'innumbersive': 2110, 'care': 473, 'to': 4338, 'miss': 2428, 'smile': 3748, 'hold': 1988, 'hear': 1940, 'snore': 3762, 'tough': 4380, 'mm': 2432, 'scare': 3483, 'anynumber': 145, 'vent': 4699, 'how': 2025, 'rest': 3333, 'piece': 2762, 'kind': 2184, 'sacred': 3437, 'culture': 796, 'decease': 885, 'perfamrel': 2738, 'heaven': 1950, 'god': 1845, 'protect': 2969, 'monthbe': 2451, 'you': 4983, 'beauty': 293, 'kindness': 2188, 'courage': 724, 'dream': 1171, 'yesterday': 4974, 'ewings': 1427, 'male': 2339, 'family': 1529, 'thankful': 4236, 'house': 2022, 'something': 3801, 'id': 2045, 'forward': 1748, 'skinny': 3715, 'kid': 2180, 'school': 3496, 'pretty': 2910, 'until': 4607, 'highschool': 1974, 'altogether': 106, 'eyes': 1505, 'burn': 433, 'sun': 4073, 'socialise': 3776, 'building': 426, 'lnumberly': 2281, 'awkward': 248, 'thanks': 4238, 'never': 2522, 'depress': 947, 'everyday': 1412, 'sleep': 3723, 'talkative': 4163, 'fall': 1525, 'course': 726, 'availablity': 231, 'primary': 2921, 'build': 425, 'over': 2673, 'next': 2526, 'socially': 3778, 'great': 1883, 'mainly': 2332, 'numberyo': 2591, 'lose': 2300, 'college': 586, 'scoial': 3502, 'skill': 3713, 'feud': 1606, 'group': 1895, 'handle': 1917, 'hey': 1969, 'functional': 1795, 'perfect': 2742, 'meanwhile': 2371, 'towards': 4386, 'fitness': 1657, 'diet': 1017, 'swim': 4138, 'mile': 2411, 'twice': 4479, 'easily': 1230, 'run': 3431, 'gym': 1909, 'increase': 2077, 'numberkg': 2575, 'rep': 3280, 'girl': 1833, 'crest': 764, 'contract': 671, 'flexor': 1675, 'figure': 1626, 'numberdonitis': 2570, 'student': 4027, 'possibly': 2840, 'wrong': 4946, 'stay': 3940, 'hip': 1978, 'muscle': 2475, 'stiff': 3962, 'butt': 438, 'ache': 25, 'bit': 339, 'related': 3228, 'issue': 2150, 'healthy': 1939, 'history': 1979, 'numberth': 2587, 'mild': 2410, 'thought': 4281, 'despite': 968, 'drug': 1186, 'morning': 2456, 'excruciate': 1449, 'decide': 887, 'radiography': 3057, 'pelvis': 2733, 'surgeon': 4098, 'doubtly': 1145, 'sit': 3705, 'front': 1782, 'alternate': 103, 'between': 322, 'cramp': 745, 'mess': 2391, 'daily': 826, 'convince': 680, 'mri': 2471, 'lay': 2218, 'painful': 2693, 'position': 2832, 'technician': 4190, 'enters': 1354, 'support': 4086, 'fo': 1692, 'probably': 2929, 'redo': 3185, 'numberm': 2577, 'contrast': 673, 'chemical': 524, 'clinic': 564, 'parent': 2706, 'watch': 4787, 'formula': 1737, 'qualify': 3023, 'turn': 4471, 'head': 1934, 'moment': 2444, 'special': 3846, 'enough': 1345, 'per': 2736, 'million': 2414, 'feed': 1585, 'pop': 2822, 'mass': 2356, 'loose': 2299, 'wnumber': 4892, 'taste': 4175, 'sweet': 4135, 'salty': 3454, 'as': 190, 'gain': 1808, 'ill': 2054, 'iv': 2156, 'gravy': 1882, 'food': 1710, 'difficult': 1025, 'tldr': 4334, 'flavor': 1670, 'act': 29, 'hit': 1980, 'fast': 1558, 'spiral': 3873, 'thread': 4286, 'short': 3645, 'seizure': 3542, 'essentially': 1390, 'borrow': 379, 'devastate': 983, 'matter': 2362, 'hearing': 1942, 'rip': 3386, 'heart': 1943, 'learn': 2225, 'tact': 4156, 'enjoy': 1340, 'plan': 2773, 'shore': 3642, 'ocean': 2608, 'mind': 2416, 'image': 2056, 'convulsion': 682, 'attack': 212, 'that': 4241, 'looked': 2295, 'detect': 975, 'each': 1219, 'lip': 2268, 'prenumberd': 2891, 'cry': 789, 'alnumber': 96, 'many': 2346, 'shoes': 3637, 'strand': 3990, 'easy': 1235, 'die': 1015, 'believe': 309, 'instead': 2123, 'dispare': 1088, 'depression': 951, 'expand': 1467, 'confusion': 642, 'strong': 4016, 'wobble': 4894, 'hate': 1931, 'revisit': 3363, 'selfish': 3548, 'heartless': 1947, 'hearted': 1946, 'rational': 3098, 'hand': 1915, 'yes': 4972, 'profession': 2942, 'truely': 4453, 'emotion': 1296, 'long': 2291, 'dred': 1174, 'unknowingly': 4576, 'eventually': 1408, 'disjointed': 1084, 'mil': 2409, 'drink': 1176, 'responsible': 3331, 'serious': 3584, 'tip': 4325, 'hopeful': 2003, 'comment': 604, 'positive': 2833, 'numberf': 2571, 'pick': 2760, 'entirety': 1360, 'hair': 1910, 'shower': 3657, 'floor': 1682, 'space': 3836, 'bury': 435, 'grandfamrel': 1869, 'caretaker': 479, 'breast': 405, 'throwaway': 4296, 'cope': 691, 'therapy': 4256, 'bring': 412, 'shoulder': 3652, 'stomach': 3977, 'liver': 2277, 'bnumbers': 368, 'progressionfree': 2950, 'sideeffectfree': 3676, 'amazing': 110, 'pill': 2764, 'recently': 3150, 'fail': 1517, 'oncology': 2631, 'team': 4180, 'marker': 2350, 'drop': 1182, 'preliminary': 2889, 'emotionally': 1299, 'key': 2177, 'reafamrel': 3123, 'state': 3935, 'problem': 2931, 'deserve': 957, 'wear': 4799, 'wig': 4864, 'failure': 1519, 'past': 2718, 'therapist': 4255, 'patient': 2722, 'discus': 1069, 'during': 1208, 'session': 3591, 'earth': 1227, 'clearly': 559, 'dignity': 1031, 'procedure': 2934, 'leave': 2229, 'kill': 2182, 'sick': 3671, 'law': 2216, 'complain': 613, 'innumberse': 2109, 'extremely': 1499, 'seem': 3539, 'esophageal': 1383, 'carcinoma': 469, 'discomfort': 1059, 'esophagus': 1384, 'hnumberstly': 1983, 'shape': 3612, 'wise': 4878, 'wonder': 4900, 'pregnant': 2887, 'rock': 3396, 'ankle': 127, 'hurt': 2038, 'noticed': 2555, 'soft': 3783, 'bump': 429, 'tissue': 4331, 'damage': 828, 'elevate': 1278, 'notice': 2554, 'lymph': 2324, 'node': 2538, 'groin': 1892, 'alarm': 87, 'concern': 626, 'referral': 3194, 'hematologist': 1958, 'connection': 644, 'ultrasound': 4500, 'biopsy': 335, 'sample': 3458, 'needle': 2508, 'edge': 1247, 'optimistic': 2649, 'send': 3564, 'analysis': 116, 'facial': 1509, 'eyebrows': 1502, 'super': 4078, 'hype': 2040, 'community': 609, 'brave': 399, 'rant': 3079, 'video': 4720, 'strongbrave': 4017, 'undergoing': 4528, 'spider': 3867, 'face': 1506, 'smack': 3742, 'shit': 3626, 'quotation': 3043, 'forever': 1719, 'acute': 36, 'myeloid': 2482, 'leukemia': 2247, 'beautiful': 292, 'cousin': 730, 'peacefully': 2729, 'play': 2782, 'fleenumberod': 1672, 'gnumber': 1842, 'numberpm': 2583, 'raise': 3068, 'angry': 124, 'frustrate': 1783, 'write': 4942, 'xnumberb': 4951, 'uterine': 4661, 'other': 2662, 'we': 4795, 'realization': 3133, 'hospitalize': 2017, 'experience': 1475, 'heavy': 1952, 'bleed': 348, 'unit': 4571, 'bleeding': 349, 'continue': 667, 'oybg': 2686, 'birth': 337, 'control': 675, 'friends': 1778, 'opportunity': 2644, 'risk': 3388, 'factor': 1513, 'prompt': 2959, 'screen': 3511, 'force': 1715, 'early': 1225, 'begin': 304, 'major': 2335, 'debilitating': 878, 'uti': 4663, 'tried': 4440, 'selftreat': 3552, 'quickly': 3037, 'doctorâ': 1124, 'office': 2615, 'list': 2273, 'sent': 3574, 'weekend': 4806, 'practitinumberr': 2867, 'explain': 1482, 'mentinumberd': 2389, 'symptom': 4145, 'np': 2559, 'focus': 1694, 'feeling': 1589, 'fell': 1595, 'without': 4886, 'insist': 2118, 'felt': 1598, 'wondering': 4902, 'relaxer': 3237, 'order': 2653, 'physical': 2755, 'negative': 2510, 'visit': 4735, 'regular': 3217, 'seek': 3538, 'enlarge': 1343, 'uterus': 4662, 'skip': 3716, 'extreme': 1498, 'nausea': 2496, 'appetite': 163, 'either': 1269, 'spent': 3863, 'pace': 2687, 'hoping': 2006, 'pay': 2725, 'subside': 4045, 'testing': 4225, 'compare': 611, 'numbercm': 2569, 'refer': 3192, 'midnight': 2406, 'sleeplessness': 3724, 'worse': 4924, 'kidney': 2181, 'barely': 268, 'compromise': 622, 'struggle': 4021, 'dialysis': 1006, 'aware': 241, 'add': 39, 'include': 2075, 'growth': 1897, 'frequently': 1770, 'outcome': 2668, 'grasp': 1878, 'meant': 2369, 'indicate': 2085, 'rare': 3083, 'wanted': 4774, 'large': 2208, 'operate': 2641, 'surround': 4113, 'organ': 2654, 'treat': 4428, 'numberrd': 2584, 'await': 237, 'trouble': 4450, 'pressure': 2906, 'adjust': 45, 'medication': 2377, 'awhile': 247, 'afternoon': 69, 'labor': 2200, 'press': 2905, 'earlier': 1224, 'thinner': 4270, 'aggressive': 75, 'tpa': 4392, 'suggest': 4066, 'half': 1911, 'dose': 1141, 'cross': 775, 'medicine': 2378, 'danger': 834, 'znumber': 4997, 'exercise': 1452, 'endometrial': 1324, 'adenocarcinoma': 44, 'vitals': 4739, 'hemoglobin': 1959, 'level': 2248, 'goal': 1844, 'chefamrelapy': 523, 'numberam': 2566, 'becomes': 296, 'responsive': 3332, 'respirator': 3325, 'cardiac': 471, 'arrest': 184, 'agree': 78, 'stabilized': 3904, 'cpr': 743, 'stable': 3905, 'sedated': 3532, 'breathing': 408, 'deeply': 905, 'oxygen': 2685, 'conumber': 676, 'turned': 4472, 'critical': 771, 'sedation': 3533, 'recognize': 3160, 'squeeze': 3898, 'tire': 4328, 'recover': 3168, 'pulmonary': 3001, 'nice': 2528, 'chance': 508, 'sonumberr': 3810, 'destroy': 970, 'gather': 1818, 'sat': 3468, 'whole': 4853, 'picture': 2761, 'information': 2098, 'stitch': 3969, 'various': 4689, 'path': 2720, 'relate': 3227, 'perfamrelal': 2739, 'prove': 2977, 'quality': 3024, 'understanding': 4536, 'left': 2230, 'rush': 3434, 'hurry': 2037, 'stepfamrel': 3952, 'amount': 115, 'coworkers': 741, 'remind': 3259, 'update': 4620, 'scared': 3484, 'lie': 2252, 'such': 4052, 'fine': 1642, 'constant': 651, 'fear': 1580, 'everytime': 1419, 'slightly': 3730, 'sign': 3681, 'constantly': 652, 'normalâ': 2549, 'ex': 1429, 'diagnosed': 1000, 'others': 2663, 'reach': 3111, 'overwhelm': 2678, 'figured': 1627, 'priority': 2926, 'obviously': 2603, 'understandable': 4534, 'attach': 211, 'whatever': 4826, 'together': 4348, 'unable': 4504, 'grieve': 1888, 'loss': 2302, 'important': 2069, 'consider': 647, 'gravity': 1881, 'confusing': 641, 'both': 383, 'complication': 619, 'relationship': 3229, 'push': 3018, 'insight': 2117, 'etc': 1395, 'atnumberd': 208, 'whether': 4838, 'online': 2632, 'confuse': 639, 'discharge': 1056, 'holy': 1993, 'cervical': 505, 'rod': 3398, 'vag': 4677, 'suck': 4053, 'relax': 3235, 'dr': 1157, 'junk': 2171, 'brazil': 401, 'covidnumber': 737, 'paramedic': 2704, 'arrive': 185, 'terrifying': 4218, 'joke': 2165, 'youâ': 4990, 'land': 2204, 'famrelnumber': 1547, 'pulmonologist': 3002, 'suspect': 4121, 'copd': 690, 'numberst': 2586, 'sepsis': 3580, 'drain': 1160, 'discover': 1065, 'viral': 4728, 'momâ': 2447, 'squamous': 3896, 'mourn': 2465, 'apart': 152, 'caregiver': 475, 'numb': 2563, 'sometimes': 3804, 'dark': 841, 'pit': 2767, 'hug': 2030, 'goodbye': 1852, 'powerless': 2860, 'depressed': 949, 'exactly': 1432, 'terrify': 4217, 'slim': 3731, 'shrink': 3660, 'medicate': 2376, 'afraid': 66, 'saying': 3476, 'telling': 4203, 'famrelinlaw': 1545, 'must': 2478, 'phase': 2751, 'forth': 1740, 'neck': 2504, 'frighnumbered': 1781, 'drive': 1178, 'rather': 3095, 'quantity': 3025, 'truthfully': 4460, 'clam': 550, 'pound': 2856, 'soooo': 3812, 'sibling': 3670, 'despise': 967, 'battle': 278, 'cut': 814, 'close': 567, 'aorta': 151, 'bless': 351, 'stupid': 4036, 'rotnumber': 3411, 'pray': 2872, 'witness': 4888, 'grief': 1886, 'background': 253, 'numberb': 2567, 'invasive': 2139, 'ductal': 1195, 'genetic': 1824, 'grade': 1860, 'hernumber': 1964, 'atleast': 206, 'mid': 2403, 'teen': 4195, 'portion': 2829, 'mammogram': 2342, 'shortly': 3647, 'suspicious': 4122, 'describe': 956, 'ow': 2681, 'literally': 2274, 'area': 178, 'wolf': 4897, 'bite': 341, 'skin': 3714, 'numbernd': 2582, 'originally': 2658, 'busy': 437, 'paperwork': 2703, 'hang': 1918, 'bos': 380, 'anger': 121, 'sky': 3718, 'blue': 362, 'yup': 4992, 'wet': 4823, 'inform': 2097, 'hr': 2027, 'wild': 4865, 'ride': 3376, 'comprehend': 621, 'surgery': 4101, 'mandatory': 2345, 'aside': 193, 'tv': 4475, 'theatrics': 4246, 'preop': 2895, 'along': 97, 'mastectomy': 2358, 'recovery': 3172, 'port': 2826, 'date': 848, 'feb': 1583, 'fri': 1773, 'affect': 62, 'beat': 290, 'red': 3182, 'final': 1634, 'appt': 175, 'temoxofin': 4204, 'surprise': 4108, 'surgeonscheduling': 4099, 'removal': 3266, 'wed': 4802, 'vacation': 4673, 'clock': 566, 'sept': 3581, 'staycation': 3941, 'steal': 3946, 'damn': 830, 'human': 2032, 'pizza': 2768, 'couch': 709, 'beer': 301, 'binge': 332, 'craze': 752, 'desire': 961, 'book': 375, 'horse': 2012, 'uuuuuhhh': 4670, 'uuuuuuhhhh': 4671, 'yoouuuuuuuuuuuuuuuuu': 4980, 'uuuuhhhh': 4669, 'yooouuuuuuuuu': 4979, 'pursue': 3015, 'diety': 1021, 'settle': 3594, 'roughlybut': 3414, 'stimulus': 3965, 'tired': 4329, 'stealing': 3947, 'alot': 98, 'subject': 4040, 'worth': 4928, 'mark': 2349, 'undertake': 4540, 'device': 990, 'receive': 3145, 'walk': 4764, 'distraught': 1104, 'hook': 2000, 'toll': 4352, 'sandbag': 3462, 'swollen': 4142, 'frustration': 1786, 'utterly': 4668, 'smooth': 3754, 'cold': 583, 'knew': 2193, 'alright': 101, 'precious': 2880, 'beam': 285, 'emotional': 1297, 'resolve': 3320, 'tear': 4182, 'nightmare': 2532, 'comfort': 599, 'rough': 3412, 'success': 4048, 'proud': 2975, 'hnumberst': 1982, 'cru': 779, 'behind': 307, 'door': 1134, 'treasure': 4427, 'guy': 1908, 'better': 321, 'record': 3167, 'ranty': 3080, 'dangerously': 836, 'potassium': 2852, 'schedule': 3492, 'free': 1764, 'afterwards': 70, 'nervous': 2518, 'health': 1937, 'condition': 629, 'complicate': 618, 'smoke': 3751, 'unexpectedly': 4548, 'eerie': 1255, 'realize': 3134, 'quit': 3040, 'otherwise': 2664, 'essay': 1388, 'type': 4485, 'slide': 3728, 'bedroom': 299, 'hide': 1970, 'spew': 3865, 'buy': 439, 'patch': 2719, 'gum': 1905, 'beg': 303, 'lisnumber': 2270, 'alcoholism': 90, 'tweenyoung': 4476, 'teenage': 4196, 'unemployed': 4546, 'stairs': 3915, 'stair': 3914, 'dead': 869, 'walked': 4765, 'awake': 238, 'drunk': 1187, 'ofnumber': 2618, 'psych': 2989, 'physically': 2756, 'recovered': 3169, 'hence': 1961, 'underlying': 4531, 'numberish': 2573, 'nana': 2487, 'city': 548, 'hardly': 1927, 'holiday': 1990, 'closer': 569, 'anyway': 148, 'pas': 2715, 'lisnumbered': 2271, 'child': 531, 'stubborn': 4024, 'lifestyle': 2255, 'choice': 538, 'sadden': 3441, 'taking': 4160, 'complex': 617, 'middle': 2404, 'pandemic': 2699, 'certainly': 504, 'worried': 4921, 'postpnumberd': 2847, 'devestating': 989, 'lurker': 2323, 'pancreatic': 2698, 'flash': 1666, 'regimen': 3208, 'big': 326, 'neuropathy': 2521, 'mobile': 2437, 'least': 2228, 'shrinkage': 3661, 'shrank': 3659, 'unless': 4578, 'tick': 4306, 'bomb': 372, 'guess': 1899, 'hill': 1976, 'relative': 3231, 'mine': 2419, 'prepare': 2897, 'light': 2259, 'prayer': 2874, 'melanoma': 2382, 'muffin': 2473, 'definitely': 913, 'breakdown': 403, 'turns': 4473, 'single': 3699, 'weekday': 4805, 'routine': 3417, 'wheel': 4829, 'center': 500, 'checkin': 518, 'coffee': 581, 'starbucks': 3927, 'warm': 4778, 'blueberry': 363, 'usually': 4658, 'snack': 3755, 'cashier': 485, 'stammer': 3918, 'giant': 1831, 'throat': 4290, 'roll': 3400, 'overwhelmed': 2679, 'bubble': 422, 'profusely': 2946, 'impend': 2068, 'outburst': 2667, 'scnumber': 3500, 'mnumbery': 2434, 'immediately': 2060, 'scramble': 3507, 'corner': 697, 'wipe': 4876, 'black': 343, 'business': 436, 'star': 3926, 'embrace': 1293, 'soothes': 3813, 'grab': 1858, 'car': 467, 'eats': 1239, 'mention': 2390, 'gratitude': 1880, 'forget': 1723, 'harder': 1926, 'rage': 3064, 'whirlwind': 4846, 'physician': 2757, 'job': 2163, 'carry': 482, 'rushed': 3435, 'min': 2415, 'explore': 1486, 'passion': 2717, 'nutrition': 2596, 'travel': 4426, 'although': 105, 'dearly': 874, 'loop': 2297, 'upsidedown': 4634, 'member': 2383, 'benefit': 316, 'discuss': 1070, 'individual': 2087, 'scientific': 3498, 'perspective': 2748, 'purpose': 3013, 'healthcare': 1938, 'additional': 42, 'resource': 3322, 'peace': 2727, 'favorable': 1570, 'provide': 2978, 'prognosis': 2947, 'prepared': 2898, 'mentally': 2388, 'pm': 2795, 'duplication': 1206, 'request': 3296, 'fightingâ': 1623, 'survive': 4117, 'npc': 2560, 'ordeal': 2652, 'respect': 3323, 'admire': 49, 'powerful': 2859, 'lady': 2202, 'doubt': 1144, 'brief': 410, 'example': 1437, 'bother': 384, 'rid': 3374, 'winâ': 4875, 'rejected': 3223, 'scant': 3480, 'lack': 2201, 'vocabulary': 4741, 'define': 912, 'simply': 3693, 'greatly': 1884, 'alternative': 104, 'american': 112, 'sympathy': 4144, 'term': 4210, 'miracle': 2422, 'drastically': 1166, 'improve': 2072, 'freedom': 1765, 'wildly': 4866, 'available': 230, 'strict': 4007, 'grand': 1867, 'injection': 2107, 'unrealistic': 4594, 'unsurprisingly': 4606, 'afford': 65, 'fucking': 1788, 'accompany': 20, 'bill': 331, 'financial': 1639, 'bullshit': 427, 'access': 18, 'fever': 1607, 'narcotic': 2489, 'induced': 2090, 'pump': 3004, 'pooped': 2819, 'toilet': 4350, 'bathroom': 277, 'childhood': 532, 'pet': 2749, 'cat': 487, 'crabby': 744, 'circle': 546, 'rug': 3426, 'poop': 2818, 'ham': 1914, 'quarter': 3028, 'wrap': 4934, 'plastic': 2778, 'price': 2916, 'sticker': 3960, 'shocked': 3634, 'trick': 4439, 'downstairs': 1148, 'decipher': 890, 'welcome': 4816, 'laugh': 2213, 'waythe': 4793, 'respond': 3327, 'gbm': 1820, 'whatsapping': 4827, 'irritate': 2145, 'offer': 2613, 'financially': 1640, 'bp': 395, 'covid': 735, 'anywhere': 150, 'sudden': 4057, 'appropriate': 171, 'shave': 3617, 'vedio': 4691, 'above': 8, 'unhappy': 4560, 'baby': 249, 'partner': 2713, 'sex': 3601, 'near': 2499, 'resign': 3317, 'burst': 434, 'desk': 962, 'lucky': 2317, 'touch': 4378, 'interested': 2129, 'cea': 496, 'kick': 2179, 'shout': 3654, 'shitty': 3630, 'tonight': 4358, 'peritnumberal': 2746, 'vital': 4738, 'throughout': 4294, 'especially': 1387, 'usmc': 4656, 'vet': 4712, 'endless': 1321, 'kept': 2176, 'bowel': 391, 'obstruction': 2601, 'uncontrollably': 4522, 'commit': 605, 'entire': 1358, 'palliative': 2696, 'mask': 2355, 'fluid': 1687, 'fill': 1629, 'hat': 1930, 'confirm': 635, 'nod': 2537, 'denial': 936, 'nose': 2550, 'shornumbered': 3644, 'shallow': 3608, 'morphine': 2457, 'fastâ': 1560, 'endure': 1329, 'upper': 4627, 'ran': 3074, 'station': 3937, 'bawl': 279, 'sadness': 3444, 'sob': 3771, 'revive': 3364, 'dawned': 851, 'text': 4229, 'grocery': 1891, 'store': 3983, 'endear': 1320, 'marine': 2348, 'humor': 2034, 'motion': 2461, 'corp': 701, 'knowing': 2197, 'cruel': 781, 'taught': 4176, 'strive': 4012, 'affected': 63, 'ugly': 4492, 'unfair': 4550, 'currently': 806, 'process': 2938, 'bf': 324, 'supportive': 4089, 'caring': 481, 'broken': 415, 'fime': 1632, 'properly': 2963, 'unfortunately': 4555, 'edit': 1250, 'famrelie': 1544, 'planet': 2775, 'deepest': 904, 'glad': 1836, 'reafamreling': 3125, 'strain': 3987, 'lesfamrels': 2238, 'fault': 1567, 'initial': 2104, 'ie': 2051, 'specialty': 3849, 'internet': 2131, 'share': 3613, 'private': 2928, 'neither': 2514, 'lean': 2224, 'stroke': 4013, 'acknowledge': 26, 'nonverbal': 2543, 'yesno': 4973, 'lock': 2287, 'limited': 2264, 'lost': 2303, 'fnumber': 1691, 'cholangiocarcinoma': 540, 'span': 3839, 'dare': 840, 'rn': 3391, 'cuz': 818, 'burden': 432, 'fate': 1564, 'relieve': 3246, 'spot': 3886, 'fortunate': 1744, 'cop': 689, 'fully': 1792, 'reality': 3132, 'adapt': 38, 'element': 1276, 'challenge': 507, 'normally': 2548, 'involve': 2141, 'overcome': 2674, 'wave': 4791, 'everywhere': 1420, 'prostate': 2967, 'source': 3831, 'certain': 503, 'mysterious': 2484, 'ect': 1243, 'mistake': 2429, 'club': 574, 'trip': 4444, 'console': 650, 'typeâ': 4486, 'workâ': 4916, 'survival': 4116, 'sort': 3821, 'started': 3931, 'criedâ': 766, 'grandfamrels': 1870, 'hyperventilate': 2041, 'hell': 1953, 'advanced': 57, 'nodes': 2539, 'symptoms': 4146, 'several': 3597, 'within': 4885, 'cough': 710, 'keytruda': 2178, 'period': 2745, 'decrease': 897, 'partial': 2708, 'response': 3328, 'stands': 3923, 'except': 1441, 'flu': 1686, 'relief': 3245, 'surgerychemo': 4102, 'numbera': 2565, 'express': 1491, 'open': 2638, 'survivor': 4119, 'shameâ': 3609, 'anybody': 143, 'somebody': 3795, 'dread': 1168, 'truly': 4454, 'lower': 2313, 'standard': 3922, 'tightness': 4313, 'abdomen': 1, 'anticipation': 137, 'toxic': 4389, 'continuous': 668, 'demeanor': 933, 'direct': 1042, 'spine': 3872, 'numerous': 2593, 'size': 3709, 'bilirubin': 330, 'count': 719, 'double': 1142, 'bloodwork': 360, 'affair': 61, 'gut': 1907, 'punch': 3005, 'basically': 273, 'duct': 1194, 'rise': 3387, 'dramatically': 1163, 'miserable': 2426, 'function': 1794, 'discontinue': 1061, 'lessen': 2241, 'impact': 2067, 'apologize': 155, 'treatable': 4429, 'thyroid': 4304, 'account': 24, 'class': 552, 'asleep': 196, 'poke': 2808, 'terrified': 4216, 'writnumber': 4945, 'form': 1731, 'lisnumbering': 2272, 'numberc': 2568, 'tonsil': 4360, 'consultation': 655, 'jaw': 2160, 'base': 270, 'empty': 1307, 'thrown': 4297, 'wind': 4870, 'collapse': 585, 'split': 3879, 'total': 4376, 'faith': 1523, 'superman': 4081, 'recur': 3178, 'xmas': 4950, 'ramble': 3069, 'waking': 4762, 'fracture': 1755, 'awful': 246, 'guilty': 1904, 'syringe': 4148, 'driver': 1179, 'thinking': 4269, 'unknown': 4577, 'underlie': 4530, 'fiancã': 1611, 'mental': 2387, 'teeter': 4199, 'guilt': 1903, 'top': 4368, 'rehab': 3220, 'sober': 3773, 'wagon': 4756, 'stressful': 4003, 'turmoil': 4470, 'drown': 1184, 'cherish': 528, 'weighed': 4814, 'fellow': 1597, 'employee': 1305, 'company': 610, 'insurance': 2126, 'enrollment': 1349, 'xray': 4954, 'slip': 3732, 'xrays': 4955, 'golf': 1850, 'ball': 262, 'accident': 19, 'transaction': 4411, 'till': 4314, 'quote': 3044, 'google': 1854, 'sink': 3700, 'direction': 1043, 'precise': 2881, 'distracted': 1102, 'option': 2650, 'advise': 59, 'expertise': 1480, 'gently': 1825, 'surprising': 4110, 'combo': 596, 'trastuzumab': 4421, 'immunotherapy': 2066, 'recommended': 3163, 'choose': 541, 'incredibly': 2079, 'heartbroken': 1945, 'distressing': 1105, 'relieved': 3247, 'bag': 258, 'hot': 2018, 'chocolate': 537, 'board': 369, 'game': 1811, 'tour': 4382, 'colin': 584, 'lymphoblastic': 2325, 'leukaemia': 2246, 'secret': 3525, 'whenever': 4833, 'poster': 2845, 'testicular': 4224, 'exploring': 1487, 'seminoma': 3559, 'cycle': 819, 'repeat': 3284, 'shoutout': 3655, 'service': 3589, 'local': 2285, 'australia': 224, 'council': 714, 'nasty': 2491, 'contain': 659, 'surgey': 4103, 'resection': 3305, 'nearly': 2501, 'worked': 4910, 'focal': 1693, 'remain': 3253, 'jump': 2170, 'joy': 2168, 'chapter': 511, 'security': 3530, 'blanket': 346, 'recurrence': 3180, 'tumour': 4466, 'idk': 2050, 'hollow': 1992, 'enter': 1353, 'uncharted': 4515, 'territory': 4219, 'void': 4745, 'stnumbers': 3971, 'vengeance': 4698, 'realistic': 3130, 'optimism': 2648, 'win': 4869, 'wonderful': 4901, 'expressive': 1492, 'stoic': 3973, 'frail': 1756, 'vulnerable': 4753, 'reminded': 3260, 'crush': 785, 'grip': 1889, 'develop': 986, 'directly': 1044, 'rebound': 3141, 'prescribe': 2901, 'beast': 289, 'wing': 4873, 'isolation': 2149, 'protocol': 2973, 'train': 4406, 'darken': 842, 'cloud': 573, 'cling': 563, 'buddy': 424, 'torn': 4371, 'famrelfucker': 1539, 'prick': 2918, 'memory': 2385, 'fought': 1751, 'rig': 3379, 'bee': 300, 'technology': 4192, 'tool': 4364, 'numbermonth': 2580, 'virtual': 4729, 'consult': 654, 'hes': 1968, 'terminal': 4211, 'swear': 4128, 'late': 2210, 'stepmoms': 3954, 'inoperable': 2112, 'unremarkable': 4597, 'urinate': 4645, 'improvement': 2073, 'sickness': 3674, 'general': 1822, 'recommendation': 3162, 'glioblastoma': 1840, 'teach': 4179, 'compassion': 612, 'value': 4685, 'pursuit': 3016, 'knowledge': 2198, 'fairly': 1522, 'younger': 4986, 'belongs': 314, 'pull': 2999, 'famrelnumberm': 1548, 'format': 1733, 'france': 1758, 'italy': 2152, 'lockdown': 2288, 'scale': 3478, 'exam': 1434, 'report': 3293, 'impossible': 2070, 'opinion': 2643, 'reduce': 3186, 'evening': 1405, 'expecially': 1469, 'dinner': 1037, 'cigarette': 545, 'third': 4271, 'row': 3419, 'scold': 3503, 'visitation': 4736, 'policy': 2812, 'scary': 3486, 'beyond': 323, 'belief': 308, 'hobby': 1985, 'organize': 2656, 'dabble': 825, 'appreciation': 169, 'osteosarcoma': 2660, 'relapse': 3224, 'trial': 4438, 'cheerful': 522, 'ray': 3102, 'sunshine': 4077, 'power': 2858, 'infection': 2093, 'save': 3471, 'recall': 3142, 'wherein': 4836, 'sens': 3568, 'whisper': 4847, 'kiss': 2190, 'graduate': 1863, 'marry': 2354, 'repay': 3283, 'thoughts': 4283, 'absolute': 11, 'reveal': 3355, 'cover': 732, 'deposit': 946, 'reduced': 3187, 'stream': 3995, 'visitor': 4737, 'distract': 1101, 'seizures': 3543, 'lifetime': 2256, 'poor': 2820, 'malignant': 2340, 'spinal': 3870, 'leptomeningeal': 2237, 'everlasting': 1409, 'career': 474, 'legs': 2235, 'rib': 3371, 'tingle': 4323, 'lb': 2220, 'effort': 1263, 'holler': 1991, 'maintain': 2334, 'scoop': 3504, 'liquid': 2269, 'ignore': 2053, 'unreliable': 4596, 'severe': 3598, 'headache': 1935, 'ton': 4356, 'cerebral': 501, 'found': 1752, 'atypical': 216, 'fair': 1521, 'bile': 329, 'average': 234, 'unbelievably': 4512, 'anytime': 147, 'married': 2352, 'otherâ': 2665, 'primarily': 2920, 'structure': 4020, 'crazy': 753, 'indefinitely': 2082, 'solution': 3791, 'hopefully': 2004, 'field': 1615, 'influence': 2095, 'mindset': 2418, 'window': 4871, 'specify': 3852, 'timeframe': 4317, 'unpredictable': 4591, 'research': 3302, 'energy': 1331, 'lab': 2199, 'spin': 3869, 'validate': 4683, 'feels': 1592, 'bleak': 347, 'consisnumbertly': 649, 'recenter': 3149, 'thus': 4301, 'used': 4651, 'plate': 2779, 'avoid': 235, 'create': 757, 'bucket': 423, 'imagine': 2057, 'placeâ': 2771, 'unbelievable': 4511, 'agony': 77, 'soul': 3825, 'restless': 3336, 'steve': 3957, 'yr': 4991, 'pneumonia': 2796, 'colorectal': 591, 'hemorrhage': 1960, 'drs': 1185, 'regret': 3214, 'initially': 2105, 'triple': 4445, 'switch': 4140, 'renowned': 3274, 'gamma': 1812, 'knife': 2194, 'zero': 4994, 'road': 3392, 'woman': 4899, 'men': 2386, 'wherever': 4837, 'metastasis': 2396, 'thisthis': 4275, 'transition': 4416, 'smart': 3744, 'scholarship': 3495, 'pride': 2919, 'slight': 3729, 'disappointment': 1053, 'lol': 2289, 'duke': 1197, 'interview': 2133, 'firm': 1650, 'summer': 4072, 'internship': 2132, 'scoff': 3501, 'undergrad': 4529, 'mostly': 2460, 'lawyer': 2217, 'basic': 272, 'across': 28, 'delirium': 925, 'hero': 1965, 'accomplishment': 22, 'childâ': 534, 'successful': 4049, 'clinical': 565, 'recruit': 3174, 'exclude': 1448, 'deteriorate': 978, 'dishonor': 1080, 'incredible': 2078, 'bound': 388, 'unresponsive': 4598, 'occasionally': 2606, 'volunteer': 4747, 'lately': 2211, 'upbeat': 4618, 'disconnect': 1060, 'momma': 2445, 'recent': 3148, 'event': 1406, 'rarely': 3084, 'dreams': 1172, 'official': 2616, 'encouragement': 1316, 'shared': 3614, 'wereare': 4821, 'connect': 643, 'cheer': 521, 'bladder': 344, 'goodnight': 1853, 'unbearable': 4509, 'nasopharyngeal': 2490, 'reprogram': 3295, 'natural': 2493, 'crossposting': 776, 'rbraincancer': 3104, 'series': 3583, 'arrived': 186, 'intubate': 2137, 'activity': 33, 'enhance': 1339, 'quarantine': 3027, 'unlucky': 4583, 'favorite': 1571, 'museum': 2476, 'brag': 396, 'prestigious': 2907, 'study': 4028, 'religiously': 3249, 'empathize': 1301, 'active': 31, 'difference': 1022, 'anxious': 141, 'lesion': 2239, 'testicle': 4223, 'veip': 4696, 'appear': 160, 'flip': 1679, 'upside': 4633, 'chair': 506, 'cook': 683, 'cleaning': 557, 'race': 3047, 'vibe': 4715, 'heal': 1936, 'ovary': 2672, 'overnight': 2675, 'realized': 3135, 'cancerversary': 459, 'ovarian': 2671, 'statistic': 3938, 'expiration': 1481, 'cuddle': 794, 'camp': 453, 'sang': 3464, 'dance': 833, 'cried': 765, 'trade': 4399, 'ponumbertial': 2815, 'distant': 1099, 'region': 3210, 'anticipate': 136, 'expectancy': 1471, 'scenario': 3488, 'famrelfamrel': 1538, 'bond': 373, 'required': 3298, 'development': 988, 'consisnumbert': 648, 'message': 2392, 'admin': 47, 'fresh': 1771, 'uni': 4565, 'whilst': 4841, 'degreerelative': 916, 'flexible': 1674, 'genuinely': 1827, 'contemplate': 660, 'defer': 909, 'blind': 353, 'roller': 3401, 'coaster': 580, 'workplace': 4915, 'dreadful': 1170, 'unhealthy': 4561, 'ate': 205, 'apartment': 153, 'flood': 1681, 'mold': 2442, 'storm': 3984, 'escape': 1381, 'cyst': 821, 'uncommon': 4517, 'accord': 23, 'remarry': 3256, 'dedicate': 898, 'retire': 3346, 'inept': 2091, 'excuse': 1450, 'paint': 2695, 'propose': 2965, 'folk': 1703, 'flat': 1668, 'aus': 222, 'prior': 2924, 'ruin': 3427, 'fiance': 1609, 'ur': 4639, 'eize': 1270, 'coming': 603, 'tobe': 4340, 'gift': 1832, 'prerecored': 2900, 'card': 470, 'english': 1336, 'funeral': 1797, 'heavily': 1951, 'beside': 318, 'whom': 4854, 'particularly': 2712, 'abroad': 9, 'react': 3112, 'slowly': 3738, 'depth': 953, 'despair': 963, 'sarcoidosis': 3466, 'main': 2331, 'prosperity': 2966, 'escalate': 1380, 'illness': 2055, 'dynamic': 1218, 'exacerbate': 1430, 'among': 114, 'pause': 2724, 'abdominal': 2, 'insane': 2114, 'caregiving': 476, 'duty': 1211, 'behaviour': 306, 'mood': 2453, 'swing': 4139, 'criticise': 773, 'load': 2282, 'recuperate': 3177, 'insists': 2119, 'excess': 1445, 'effectiveness': 1261, 'trigger': 4441, 'choke': 539, 'swallow': 4127, 'surmise': 4105, 'meal': 2365, 'supplement': 4084, 'nutritional': 2597, 'gotnumber': 1856, 'arrange': 182, 'counsel': 715, 'drag': 1159, 'respiratory': 3326, 'si': 3669, 'reacts': 3115, 'intrusive': 2136, 'reactive': 3114, 'coughing': 711, 'draw': 1167, 'din': 1036, 'chaotic': 510, 'randomly': 3076, 'fish': 1654, 'weigh': 4813, 'herâ': 1967, 'intake': 2127, 'forgot': 1730, 'farherâ': 1556, 'sifts': 3678, 'undiagnosed': 4543, 'untreated': 4609, 'combination': 595, 'disruptive': 1092, 'disorganise': 1086, 'contradictory': 672, 'mix': 2430, 'safety': 3447, 'emotionality': 1298, 'boundary': 389, 'university': 4574, 'adjustment': 46, 'resolveâ': 3321, 'problemâ': 2933, 'vicinity': 4716, 'engage': 1332, 'tearaway': 4183, 'engulfed': 1338, 'counsellor': 716, 'consequence': 646, 'highly': 1973, 'involved': 2142, 'besides': 319, 'xo': 4952, 'fatigue': 1565, 'fog': 1697, 'revelation': 3357, 'survivorsâ': 4120, 'cringe': 767, 'meâ': 2402, 'fighter': 1620, 'unique': 4570, 'social': 3775, 'medium': 2379, 'photo': 2754, 'bald': 261, 'section': 3528, 'tag': 4157, 'interest': 2128, 'positively': 2834, 'equipment': 1372, 'independent': 2083, 'deep': 902, 'character': 512, 'dependent': 945, 'hnumbersty': 1984, 'rat': 3093, 'trap': 4419, 'experiment': 1477, 'courageous': 725, 'bravery': 400, 'crumple': 784, 'scream': 3508, 'ravage': 3100, 'pathology': 2721, 'guide': 1902, 'auto': 226, 'miraculously': 2423, 'decline': 895, 'benign': 317, 'curse': 807, 'died': 1016, 'approximately': 174, 'sunset': 4076, 'rasp': 3091, 'breaths': 409, 'eternally': 1397, 'heard': 1941, 'corpse': 702, 'pronounce': 2960, 'onto': 2634, 'stretcher': 4006, 'speak': 3844, 'finance': 1638, 'reception': 3153, 'invite': 2140, 'discretion': 1068, 'eulogy': 1399, 'formal': 1732, 'ceremony': 502, 'exnumberded': 1463, 'california': 448, 'hometown': 1996, 'pack': 2688, 'reentering': 3190, 'weird': 4815, 'shoe': 3636, 'sandal': 3461, 'straight': 3986, 'sigh': 3679, 'stoke': 3974, 'coal': 578, 'exit': 1460, 'exuberance': 1500, 'eve': 1403, 'immense': 2061, 'slow': 3737, 'sweat': 4130, 'dosage': 1140, 'shut': 3666, 'resuscitate': 3341, 'loving': 2311, 'favourite': 1572, 'yearly': 4963, 'repercussion': 3287, 'anniversary': 128, 'giver': 1835, 'management': 2344, 'cramping': 746, 'constipation': 653, 'white': 4849, 'stimulation': 3964, 'apply': 165, 'inhome': 2103, 'income': 2076, 'op': 2636, 'esophagusesoctomy': 1385, 'yeah': 4960, 'anyways': 149, 'breath': 406, 'shake': 3605, 'cathartic': 489, 'tornado': 4372, 'inspection': 2120, 'fantasy': 1554, 'football': 1713, 'draft': 1158, 'urgent': 4642, 'childrens': 533, 'massive': 2357, 'resect': 3303, 'determine': 980, 'specific': 3850, 'data': 847, 'blame': 345, 'seth': 3593, 'television': 4201, 'portray': 2831, 'foreshadowing': 1718, 'unexpected': 4547, 'catch': 488, 'crash': 751, 'downhill': 1147, 'someday': 3796, 'milestnumber': 2412, 'soak': 3768, 'cooped': 687, 'cancel': 456, 'mainnumberance': 2333, 'lifeâ': 2257, 're': 3110, 'renew': 3272, 'lease': 2227, 'woo': 4905, 'avastin': 232, 'ensure': 1351, 'moon': 2454, 'blessing': 352, 'former': 1736, 'coworker': 740, 'reconnected': 3166, 'albeit': 88, 'distance': 1097, 'succumbed': 4051, 'blow': 361, 'hysterectomy': 2042, 'circumstance': 547, 'ocd': 2607, 'suicidal': 4069, 'shrunk': 3662, 'reduction': 3188, 'country': 721, 'handful': 1916, 'decided': 888, 'curl': 803, 'curly': 804, 'excite': 1446, 'reflection': 3198, 'mirror': 2424, 'fond': 1708, 'grant': 1877, 'papa': 2701, 'preteen': 2909, 'forgeti': 1726, 'wokei': 4896, 'possum': 2841, 'platinum': 2781, 'sever': 3596, 'worst': 4926, 'fade': 1515, 'warrior': 4781, 'avoids': 236, 'silent': 3686, 'repeatedly': 3285, 'texted': 4230, 'texting': 4231, 'revise': 3362, 'expectation': 1472, 'mutual': 2480, 'themself': 4249, 'understandably': 4535, 'antidepressant': 139, 'nerve': 2517, 'cannabis': 463, 'oil': 2620, 'legal': 2233, 'crutch': 788, 'tropical': 4449, 'bearable': 288, 'stamen': 3917, 'fly': 1689, 'halfway': 1912, 'costco': 708, 'kinda': 2185, 'grandpa': 1874, 'nauseous': 2497, 'ease': 1228, 'common': 606, 'incurable': 2080, 'disorder': 1085, 'precursor': 2882, 'ptsd': 2994, 'dl': 1115, 'affecting': 64, 'puppy': 3009, 'frustrating': 1785, 'progress': 2949, 'snap': 3758, 'delusion': 930, 'perhaps': 2744, 'scourge': 3506, 'intestine': 2134, 'clavicle': 555, 'province': 2980, 'canada': 455, 'seafamrelal': 3518, 'cornea': 696, 'hourly': 2021, 'psw': 2988, 'sane': 3463, 'cost': 707, 'cheek': 520, 'sore': 3815, 'diameter': 1007, 'correspond': 705, 'mouth': 2466, 'note': 2552, 'failing': 1518, 'shopper': 3640, 'rapidly': 3082, 'developed': 987, 'adrenal': 54, 'gland': 1837, 'inevitable': 2092, 'dwell': 1212, 'stuck': 4026, 'grateful': 1879, 'continually': 666, 'queue': 3034, 'daynumberamnumberpm': 856, 'potato': 2853, 'ice': 2043, 'cream': 755, 'pudding': 2997, 'wither': 4884, 'suppressant': 4094, 'unrelated': 4595, 'elsewhere': 1285, 'abnormal': 5, 'losing': 2301, 'daytoday': 865, 'itâ': 2155, 'quietly': 3039, 'colorado': 590, 'revolutionary': 3365, 'technique': 4191, 'sole': 3786, 'provider': 2979, 'older': 2625, 'useless': 4653, 'particular': 2711, 'inflammation': 2094, 'exhaust': 1454, 'sleepâ': 3725, 'watched': 4788, 'ability': 3, 'devastating': 985, 'teams': 4181, 'professional': 2943, 'equipped': 1373, 'surreal': 4112, 'aka': 85, 'comic': 602, 'rainbow': 3067, 'sprinkle': 3895, 'tradition': 4401, 'lazboy': 2219, 'eazboy': 1240, 'dear': 873, 'mr': 2470, 'darrow': 845, 'popphellebuyck': 2823, 'heather': 1949, 'ross': 3409, 'gary': 1814, 'military': 2413, 'temporarily': 4207, 'residence': 3313, 'denver': 941, 'receives': 3146, 'institute': 2124, 'naturally': 2494, 'recliner': 3158, 'recovers': 3171, 'upcoming': 4619, 'dog': 1127, 'tow': 4384, 'associate': 201, 'kate': 2174, 'purchasing': 3010, 'deliver': 927, 'hotel': 2019, 'knock': 2195, 'delivering': 928, 'limit': 2263, 'item': 2154, 'uglyâ': 4493, 'solid': 3788, 'customer': 813, 'highlight': 1972, 'bicker': 325, 'spouse': 3887, 'comfortably': 601, 'bottom': 386, 'fan': 1551, 'tednumber': 4194, 'deem': 901, 'proton': 2974, 'montho': 2452, 'blend': 350, 'widow': 4862, 'biological': 333, 'surviving': 4118, 'adopt': 53, 'exhausting': 1456, 'crushing': 787, 'divorce': 1112, 'article': 189, 'specifically': 3851, 'refill': 3196, 'cup': 797, 'household': 2023, 'feelings': 1591, 'awayâ': 244, 'breakfast': 404, 'balance': 260, 'tank': 4168, 'exisnumberce': 1458, 'desperately': 965, 'shush': 3665, 'puke': 2998, 'aid': 81, 'pulse': 3003, 'tight': 4311, 'ekg': 1271, 'fun': 1793, 'encourage': 1314, 'excellent': 1440, 'duarte': 1192, 'ca': 442, 'wanybody': 4776, 'youif': 4984, 'edible': 1249, 'hindsight': 1977, 'drove': 1183, 'regional': 3211, 'mnumber': 2433, 'opposite': 2645, 'wall': 4769, 'language': 2205, 'rambling': 3071, 'emigrate': 1295, 'marriage': 2351, 'pre': 2876, 'stayed': 3942, 'prediabetic': 2883, 'fiancee': 1610, 'flight': 1677, 'sadly': 3443, 'immunology': 2065, 'dietary': 1018, 'relatively': 3232, 'approve': 173, 'simultaneous': 3694, 'covidliving': 736, 'deterioration': 979, 'luckily': 2316, 'conference': 631, 'duration': 1207, 'bitter': 342, 'rambly': 3072, 'stabilize': 3903, 'overseas': 2676, 'helpless': 1956, 'induce': 2089, 'helplessness': 1957, 'wisdom': 4877, 'typos': 4489, 'undergo': 4526, 'relay': 3238, 'severely': 3599, 'dilemma': 1034, 'depressive': 952, 'isolate': 2147, 'regardless': 3205, 'sake': 3451, 'gallbladder': 1810, 'soap': 3769, 'opera': 2639, 'drama': 1161, 'verge': 4705, 'atnumbertion': 210, 'runâ': 3432, 'immediate': 2059, 'proper': 2962, 'documentation': 1126, 'avenue': 233, 'action': 30, 'curious': 802, 'stance': 3920, 'spending': 3862, 'rupture': 3433, 'strongly': 4019, 'shittier': 3629, 'replace': 3289, 'newly': 2524, 'website': 4801, 'wtf': 4947, 'enrages': 1348, 'shockâ': 3635, 'stressor': 4004, 'wreck': 4935, 'understands': 4537, 'hungry': 2036, 'caloric': 451, 'curative': 799, 'pleased': 2787, 'apparent': 158, 'silently': 3687, 'possibility': 2838, 'regain': 3202, 'bout': 390, 'pnnrobably': 2798, 'relapsen': 3225, 'copingwrong': 692, 'font': 1709, 'porch': 2825, 'spek': 3859, 'ultimately': 4498, 'browse': 420, 'dive': 1109, 'specter': 3854, 'hanging': 1919, 'adult': 55, 'winter': 4874, 'nephew': 2516, 'yeahhhhh': 4961, 'ground': 1894, 'diabetes': 997, 'dumbfound': 1199, 'pratty': 2871, 'ear': 1223, 'teenager': 4197, 'shatter': 3615, 'knee': 2192, 'package': 2689, 'crap': 750, 'honor': 1998, 'somenumbers': 3799, 'priceless': 2917, 'proceed': 2935, 'unimaginable': 4568, 'enormous': 1344, 'frame': 1757, 'presenting': 2904, 'horrific': 2011, 'estimated': 1393, 'diffuse': 1027, 'midline': 2405, 'glioma': 1841, 'hnumber': 1981, 'thalamus': 4233, 'ifwhen': 2052, 'quits': 3042, 'curemore': 801, 'effective': 1259, 'princeton': 2922, 'fuckâ': 1789, 'seriously': 3585, 'alcohol': 89, 'mixed': 2431, 'suggested': 4067, 'rgriefsupport': 3368, 'writhe': 4943, 'refusal': 3200, 'fentanyl': 1601, 'gabapentin': 1806, 'prozac': 2982, 'defensive': 908, 'occasion': 2604, 'spindle': 3871, 'frustrated': 1784, 'freaking': 1762, 'fighting': 1622, 'writhes': 4944, 'yell': 4967, 'abuse': 13, 'mini': 2420, 'debulking': 881, 'pseudomyxoma': 2986, 'spell': 3860, 'wow': 4932, 'elation': 1273, 'approach': 170, 'atm': 207, 'beating': 291, 'syndrome': 4147, 'suffering': 4061, 'bronchitis': 416, 'steroid': 3956, 'nsc': 2561, 'dayofweekdayofweek': 858, 'disabled': 1048, 'ehlers': 1268, 'danlos': 838, 'disability': 1047, 'spiritually': 3876, 'dying': 1217, 'flare': 1665, 'rendition': 3271, 'lungs': 2322, 'nowhere': 2557, 'spoken': 3882, 'previously': 2915, 'aml': 113, 'fibrosis': 1612, 'experimental': 1478, 'require': 3297, 'anti': 134, 'fungal': 1798, 'environment': 1364, 'plasma': 2777, 'timeframes': 4318, 'terminally': 4213, 'externally': 1494, 'disbelief': 1054, 'dermatologist': 954, 'toddler': 4344, 'movie': 2469, 'meaningful': 2368, 'learnt': 2226, 'accepted': 17, 'fineâ': 1644, 'the': 4245, 'faultâ': 1568, 'correct': 703, 'discussion': 1071, 'seafamrel': 3517, 'happened': 1921, 'truck': 4451, 'freakin': 1761, 'psa': 2985, 'confession': 632, 'page': 2691, 'replay': 3291, 'cremate': 762, 'ash': 191, 'sea': 3516, 'teaspoon': 4186, 'hospitalise': 2015, 'strike': 4009, 'fiercely': 1617, 'sentimental': 3576, 'letter': 2244, 'target': 4172, 'reassurance': 3139, 'dehydrate': 917, 'gastric': 1816, 'numberâ': 2592, 'unsuccessful': 4603, 'cart': 483, 'speaking': 3845, 'somenumberâ': 3800, 'reaction': 3113, 'safe': 3445, 'unburden': 4513, 'triplenegative': 4447, 'ecstatic': 1242, 'secure': 3529, 'estimate': 1392, 'rating': 3096, 'working': 4912, 'pancreas': 2697, 'eribulin': 1376, 'mate': 2360, 'glass': 1838, 'pdnumber': 2726, 'yield': 4977, 'spectre': 3855, 'loom': 2296, 'laughter': 2214, 'thirty': 4273, 'undoubtedly': 4544, 'widower': 4863, 'goddamn': 1846, 'terrorize': 4221, 'rediagnosed': 3184, 'supporter': 4088, 'freshly': 1772, 'fl': 1661, 'florida': 1683, 'shift': 3623, 'perfamrelality': 2740, 'female': 1599, 'saltine': 3453, 'defeat': 907, 'actual': 34, 'behavior': 305, 'nenumberrk': 2515, 'gross': 1893, 'abusive': 14, 'psychological': 2990, 'recap': 3143, 'radioactive': 3055, 'iodine': 2143, 'wonky': 4903, 'surgeries': 4100, 'monster': 2449, 'stranger': 3993, 'significant': 3683, 'truth': 4459, 'necessarily': 2502, 'stepmom': 3953, 'underneath': 4532, 'gp': 1857, 'gastrointestinal': 1817, 'specialist': 3847, 'lobe': 2284, 'everð': 1421, 'rectum': 3176, 'indeed': 2081, 'boniol': 374, 'placement': 2770, 'folfox': 1700, 'occasional': 2605, 'folfoxnumberth': 1702, 'sugar': 4064, 'admitted': 52, 'wtfð': 4948, 'folfoxavastin': 1701, 'sirtex': 3704, 'bead': 284, 'inject': 2106, 'reply': 3292, 'assure': 203, 'reassure': 3140, 'foreverð': 1720, 'reads': 3121, 'fyi': 1805, 'professor': 2944, 'semester': 3555, 'withdraw': 4882, 'ugh': 4491, 'sometime': 3803, 'role': 3399, 'gradually': 1862, 'dy': 1215, 'relatable': 3226, 'disgnosed': 1077, 'devastated': 984, 'harm': 1928, 'nursing': 2595, 'facility': 1510, 'hopeless': 2005, 'coverage': 733, 'laundry': 2215, 'stumble': 4033, 'cord': 694, 'lnumber': 2280, 'ensue': 1350, 'declaration': 892, 'shadow': 3604, 'declare': 893, 'exist': 1459, 'epic': 1366, 'mutation': 2479, 'deconstruct': 896, 'toughest': 4381, 'thoughtthat': 4285, 'famrelg': 1540, 'famrelgbut': 1541, 'dignityto': 1032, 'embarrassment': 1291, 'thembecause': 4248, 'believing': 310, 'slosw': 3736, 'terminallly': 4212, 'talker': 4165, 'ungrateful': 4558, 'readily': 3118, 'art': 187, 'dealt': 872, 'streamofconsciousness': 3996, 'ass': 199, 'chore': 542, 'xposted': 4953, 'visionhis': 4733, 'risky': 3389, 'shopping': 3641, 'cooking': 684, 'dishwasher': 1081, 'garbage': 1813, 'tutored': 4474, 'babysat': 250, 'unloaded': 4581, 'vacuum': 4676, 'equally': 1370, 'distributed': 1106, 'unexplained': 4549, 'dizzy': 1114, 'disoriented': 1087, 'nap': 2488, 'recedes': 3144, 'extra': 1495, 'wash': 4783, 'stinky': 3967, 'sweaty': 4133, 'sheet': 3621, 'cremation': 763, 'atnumberdance': 209, 'renal': 3270, 'relevant': 3243, 'discovery': 1066, 'disclose': 1058, 'restraint': 3337, 'whack': 4824, 'cdu': 495, 'separate': 3578, 'obstruct': 2600, 'imminent': 2063, 'awesome': 245, 'apologise': 154, 'dan': 832, 'upâ': 4638, 'pot': 2851, 'diaper': 1008, 'document': 1125, 'grandmaâ': 1873, 'faint': 1520, 'dignified': 1030, 'resume': 3340, 'stint': 3968, 'chicken': 530, 'broth': 417, 'soup': 3829, 'thanksgiving': 4239, 'caught': 491, 'sedate': 3531, 'neuroendocrine': 2520, 'formation': 1734, 'spherical': 3866, 'airway': 84, 'discipline': 1057, 'diagnosisprognosistreatment': 1003, 'classify': 553, 'festivity': 1604, 'fridge': 1775, 'dramatic': 1162, 'vigil': 4723, 'tearful': 4184, 'finalize': 1636, 'toward': 4385, 'mode': 2440, 'suggestion': 4068, 'youngest': 4987, 'closest': 570, 'roommate': 3408, 'organization': 2655, 'screw': 3512, 'niece': 2530, 'needed': 2507, 'groan': 1890, 'shoot': 3638, 'blur': 364, 'usual': 4657, 'coward': 738, 'treated': 4430, 'search': 3519, 'odds': 2609, 'favor': 1569, 'clue': 575, 'explicit': 1484, 'operable': 2640, 'reading': 3119, 'exhausted': 1455, 'thigh': 4262, 'thumbsup': 4300, 'soar': 3770, 'somostatin': 3808, 'marijuana': 2347, 'easter': 1234, 'yearð': 4965, 'detectable': 976, 'praise': 2868, 'harsh': 1929, 'vaccine': 4675, 'prayed': 2873, 'diseaseð': 1075, 'entirely': 1359, 'granfamrel': 1876, 'tongue': 4357, 'vomit': 4748, 'town': 4388, 'peg': 2731, 'encouraging': 1318, 'rattle': 3099, 'doze': 1154, 'depend': 944, 'stag': 3911, 'east': 1233, 'coast': 579, 'usa': 4649, 'vancouver': 4687, 'overwhelming': 2680, 'daysi': 861, 'tragedy': 4403, 'instantly': 2122, 'therapies': 4254, 'unhelpful': 4563, 'resentment': 3309, 'resentful': 3308, 'expose': 1489, 'undergoes': 4527, 'housework': 2024, 'addition': 41, 'isolated': 2148, 'mountain': 2464, 'fil': 1628, 'catheter': 490, 'adamant': 37, 'selfâ': 3553, 'reclused': 3159, 'urine': 4646, 'rust': 3436, 'color': 589, 'bounce': 387, 'dehydrated': 918, 'homeâ': 1997, 'spike': 3868, 'radiology': 3059, 'eating': 1238, 'coronavirus': 700, 'completion': 616, 'wbc': 4794, 'killer': 2183, 'grandkids': 1871, 'enemy': 1330, 'de': 868, 'yay': 4959, 'tamoxifen': 4167, 'disposable': 1090, 'guest': 1900, 'envious': 1363, 'unsupported': 4604, 'ideal': 2047, 'cool': 686, 'reevaluate': 3191, 'redditors': 3183, 'closeness': 568, 'physio': 2758, 'contact': 658, 'watching': 4789, 'snow': 3763, 'bank': 265, 'blockage': 357, 'shornumber': 3643, 'exnumberd': 1462, 'announce': 129, 'facebook': 1507, 'enjoymennumbertertainment': 1342, 'significantly': 3684, 'motor': 2463, 'permanent': 2747, 'deductible': 900, 'max': 2363, 'pocket': 2800, 'lots': 2305, 'expert': 1479, 'navigate': 2498, 'claim': 549, 'willing': 4868, 'prep': 2896, 'recieved': 3155, 'ellie': 1281, 'elliemonthnumber': 1282, 'discord': 1062, 'talented': 4161, 'view': 4722, 'dammit': 829, 'decade': 883, 'prostrate': 2968, 'precaution': 2879, 'caretaking': 480, 'gender': 1821, 'thingthe': 4266, 'conversed': 679, 'vegan': 4693, 'encounter': 1313, 'fearful': 1581, 'fetch': 1605, 'thru': 4298, 'regardsless': 3206, 'appreciated': 168, 'radiotherapy': 3060, 'aswell': 204, 'forgiven': 1729, 'proudly': 2976, 'names': 2486, 'agressive': 79, 'faster': 1559, 'current': 805, 'fatale': 1563, 'monitor': 2448, 'traumatic': 4423, 'ectopic': 1244, 'ivf': 2157, 'cruise': 782, 'sperm': 3864, 'testosternumber': 4226, 'pssudomedicine': 2987, 'confident': 634, 'trustful': 4457, 'di': 996, 'opt': 2646, 'bc': 281, 'crank': 749, 'loan': 2283, 'discount': 1063, 'heres': 1963, 'stnumber': 3970, 'diminish': 1035, 'whistle': 4848, 'dave': 849, 'brought': 418, 'division': 1111, 'shuts': 3667, 'product': 2940, 'tied': 4310, 'fester': 1603, 'rule': 3428, 'couldt': 713, 'conflict': 637, 'retaliate': 3344, 'slack': 3720, 'differently': 1024, 'welp': 4820, 'fatal': 1562, 'arrangement': 183, 'frickin': 1774, 'cali': 447, 'dumpster': 1201, 'fire': 1648, 'hodgkins': 1987, 'sternum': 3955, 'ungodly': 4557, 'utis': 4664, 'yeast': 4966, 'oral': 2651, 'thrush': 4299, 'eyelash': 1503, 'shakey': 3606, 'unstable': 4601, 'diganosed': 1029, 'stuggle': 4032, 'reference': 3193, 'donate': 1130, 'gold': 1849, 'urothelial': 4648, 'serve': 3587, 'calendar': 445, 'renovate': 3273, 'widely': 4860, 'elderly': 1274, 'poland': 2810, 'prioritization': 2925, 'unprepared': 4592, 'plenty': 2789, 'bare': 267, 'plague': 2772, 'radiocirugã': 3056, 'promising': 2958, 'diagnostic': 1004, 'magic': 2330, 'unicorn': 4566, 'resident': 3314, 'expensive': 1474, 'whine': 4842, 'chip': 535, 'apology': 156, 'nicer': 2529, 'wide': 4859, 'endrant': 1328, 'unmarried': 4585, 'basis': 274, 'preface': 2885, 'nature': 2495, 'acceptable': 16, 'sentiment': 3575, 'waste': 4786, 'nor': 2546, 'moms': 2446, 'throughand': 4292, 'bore': 377, 'detail': 974, 'bedridden': 298, 'sothe': 3823, 'bathe': 276, 'clothe': 572, 'thatits': 4242, 'sothis': 3824, 'noon': 2544, 'fee': 1584, 'dementia': 934, 'relentless': 3242, 'generally': 1823, 'awaynot': 243, 'dayofweeks': 859, 'contempt': 661, 'futile': 1803, 'expense': 1473, 'sores': 3817, 'sight': 3680, 'counselor': 717, 'seriouslyi': 3586, 'damned': 831, 'followup': 1707, 'confirmation': 636, 'boys': 394, 'vaccinate': 4674, 'expat': 1468, 'mexico': 2401, 'demonstrate': 935, 'dehydration': 919, 'famrelar': 1534, 'communicate': 607, 'chat': 515, 'pry': 2983, 'responses': 3329, 'bunch': 430, 'hung': 2035, 'insensitive': 2115, 'posted': 2844, 'rang': 3077, 'easier': 1229, 'horizon': 2007, 'teeth': 4200, 'denture': 940, 'gag': 1807, 'reiterate': 3222, 'rightâ': 3381, 'calorie': 452, 'dense': 938, 'ingest': 2101, 'starts': 3933, 'emphasize': 1303, 'boost': 376, 'protein': 2971, 'thin': 4263, 'supposedly': 4092, 'hormnumber': 2008, 'spirt': 3877, 'famrelly': 1546, 'recovering': 3170, 'onc': 2628, 'declared': 894, 'familiar': 1528, 'happier': 1922, 'exceptional': 1443, 'texas': 4228, 'grandparent': 1875, 'southern': 3833, 'county': 722, 'disdain': 1072, 'defiance': 910, 'science': 3497, 'public': 2996, 'added': 40, 'neighborhood': 2512, 'beach': 283, 'prenumberding': 2893, 'valid': 4682, 'rash': 3088, 'antibiotic': 135, 'dunno': 1204, 'explode': 1485, 'poifamreling': 2805, 'reverse': 3360, 'curable': 798, 'percentage': 2737, 'range': 3078, 'wreckingly': 4937, 'scheme': 3494, 'terror': 4220, 'stamp': 3919, 'proof': 2961, 'got': 1855, 'stressed': 4002, 'semesterâ': 3556, 'medically': 2375, 'audit': 219, 'kaiser': 2173, 'ed': 1245, 'tree': 4435, 'vertebra': 4709, 'retro': 3348, 'vena': 4697, 'original': 2657, 'destroyed': 971, 'tace': 4155, 'dayâ': 866, 'daysâ': 864, 'reminisce': 3263, 'filler': 1630, 'puzzle': 3020, 'religious': 3248, 'okâ': 2623, 'facing': 1511, 'thrill': 4289, 'semipresent': 3561, 'transfusion': 4415, 'whoo': 4855, 'disappear': 1050, 'emts': 1309, 'hub': 2028, 'asshole': 200, 'consciousness': 645, 'transparent': 4417, 'unbeknownst': 4510, 'timing': 4321, 'emt': 1308, 'dilaudid': 1033, 'vein': 4695, 'bruise': 421, 'pin': 2765, 'cushion': 809, 'throughly': 4293, 'ingrown': 2102, 'puberty': 2995, 'trauma': 4422, 'tremendously': 4437, 'protective': 2970, 'exams': 1438, 'fatigued': 1566, 'peaceful': 2728, 'delusional': 931, 'sour': 3830, 'smell': 3746, 'vincristine': 4726, 'tablet': 4153, 'marrow': 2353, 'portacath': 2827, 'rob': 3393, 'annoyed': 131, 'covered': 734, 'numberlbs': 2576, 'fat': 1561, 'rashesetc': 3089, 'annoy': 130, 'unsure': 4605, 'regiment': 3209, 'residue': 3316, 'employ': 1304, 'owner': 2684, 'nyc': 2598, 'numbermonths': 2581, 'skyrocket': 3719, 'stretch': 4005, 'originate': 2659, 'urinary': 4644, 'status': 3939, 'suicide': 4070, 'unstructured': 4602, 'devote': 992, 'outlook': 2669, 'memorial': 2384, 'useful': 4652, 'powerlessness': 2861, 'flew': 1673, 'cute': 815, 'supposed': 4091, 'location': 2286, 'establish': 1391, 'forgave': 1721, 'admission': 50, 'supported': 4087, 'court': 727, 'xx': 4956, 'upgraded': 4623, 'valentine': 4681, 'struggling': 4022, 'pile': 2763, 'diabetic': 998, 'doormat': 1135, 'woe': 4895, 'preach': 2877, 'worstcase': 4927, 'remedy': 3257, 'qurantine': 3045, 'videocall': 4721, 'stare': 3928, 'context': 662, 'platform': 2780, 'godfamrel': 1847, 'conflicted': 638, 'mds': 2364, 'donor': 1132, 'successfully': 4050, 'stoma': 3976, 'stupidly': 4037, 'didâ': 1014, 'ctscans': 792, 'smileâ': 3750, 'realistically': 3131, 'roughly': 3413, 'wrist': 4941, 'band': 264, 'thingy': 4267, 'wallet': 4770, 'credit': 760, 'treatmentwhy': 4434, 'reminder': 3261, 'entice': 1357, 'superstitious': 4083, 'precancer': 2878, 'bye': 440, 'darkness': 843, 'sclc': 3499, 'pneumoniaâ': 2797, 'nope': 2545, 'entertained': 1356, 'sweatpants': 4131, 'sweatshirt': 4132, 'cozy': 742, 'sudoku': 4059, 'woodworkingnature': 4907, 'candy': 462, 'trail': 4404, 'stole': 3975, 'radiationâ': 3052, 'regression': 3213, 'revenge': 3358, 'feeding': 1587, 'dietician': 1019, 'requirement': 3299, 'gram': 1865, 'consume': 657, 'purã': 3017, 'steak': 3945, 'dual': 1191, 'compound': 620, 'effectively': 1260, 'returned': 3351, 'upswing': 4636, 'entity': 1361, 'represent': 3294, 'spare': 3840, 'doubled': 1143, 'waited': 4759, 'wheezy': 4831, 'drip': 1177, 'diarrhea': 1010, 'waning': 4772, 'speech': 3857, 'unintelligible': 4569, 'pad': 2690, 'repetition': 3288, 'preeminent': 2884, 'toxicity': 4390, 'join': 2164, 'violent': 4727, 'homeless': 1995, 'temporary': 4208, 'practically': 2865, 'autism': 225, 'carer': 477, 'dis': 1046, 'cancerâ': 460, 'numberyear': 2590, 'youyour': 4989, 'suppress': 4093, 'sunk': 4074, 'rocketing': 3397, 'fading': 1516, 'rectal': 3175, 'forgive': 1728, 'technical': 4188, 'drâ': 1189, 'confer': 630, 'sport': 3885, 'plumb': 2792, 'loopy': 2298, 'salvage': 3455, 'horrendous': 2009, 'recipe': 3156, 'lidocaine': 2251, 'diphenhydramine': 1040, 'spray': 3889, 'wound': 4931, 'desperate': 964, 'grievance': 1887, 'beloved': 315, 'recurrent': 3181, 'radition': 3061, 'regrow': 3216, 'detoriate': 982, 'vomitted': 4750, 'internal': 2130, 'surpressing': 4107, 'register': 3212, 'finalising': 1635, 'romove': 3403, 'dissapointed': 1093, 'toreading': 4370, 'hurting': 2039, 'density': 939, 'calcitonin': 444, 'strengthen': 3999, 'tylenol': 4484, 'weakness': 4798, 'tips': 4326, 'soreness': 3816, 'volatile': 4746, 'easilyfeels': 1231, 'easilyi': 1232, 'erupt': 1379, 'uplifting': 4625, 'semiseparate': 3563, 'stock': 3972, 'unsafe': 4599, 'etcso': 1396, 'rub': 3423, 'upsetness': 4631, 'barrier': 269, 'exnumbertactually': 1466, 'sensemonthbe': 3571, 'ups': 4629, 'chronic': 544, 'selfcare': 3546, 'quartersi': 3030, 'dress': 1175, 'wrench': 4938, 'sincerely': 3697, 'fund': 1796, 'link': 2267, 'spleen': 3878, 'salt': 3452, 'thicker': 4261, 'thc': 4244, 'gummies': 1906, 'talked': 4164, 'necessary': 2503, 'surrounded': 4114, 'numberk': 2574, 'yearnot': 4964, 'trailer': 4405, 'uterean': 4660, 'selfharm': 3547, 'shop': 3639, 'jazz': 2161, 'concert': 628, 'award': 240, 'society': 3779, 'subset': 4044, 'south': 3832, 'york': 4981, 'chemos': 527, 'psychosis': 2992, 'concerned': 627, 'lend': 2236, 'dm': 1117, 'rarities': 3087, 'victoria': 4718, 'crucial': 780, 'guidance': 1901, 'toobut': 4363, 'flail': 1663, 'wail': 4757, 'tablets': 4154, 'xanax': 4949, 'recommend': 3161, 'eanumber': 1222, 'majority': 2336, 'coherent': 582, 'quicker': 3036, 'casket': 486, 'gradual': 1861, 'unwilling': 4616, 'plane': 2774, 'ticket': 4308, 'readmitted': 3120, 'therafter': 4252, 'recentlymonth': 3151, 'un': 4503, 'dexamethafamrele': 993, 'yervoy': 4970, 'opdivo': 2637, 'umpleasant': 4502, 'familyquiet': 1532, 'stack': 3907, 'upon': 4626, 'thick': 4260, 'input': 2113, 'crowd': 777, 'daniel': 837, 'understood': 4539, 'bottle': 385, 'spark': 3842, 'toothless': 4366, 'alabama': 86, 'andy': 119, 'wellington': 4818, 'zip': 4995, 'therapygot': 4257, 'ziplock': 4996, 'underwater': 4541, 'counselorbut': 718, 'forsaken': 1738, 'bilateral': 328, 'flap': 1664, 'clarity': 551, 'shiver': 3631, 'fireplace': 1649, 'freezing': 1768, 'unlikely': 4579, 'biopsied': 334, 'pellet': 2732, 'eligible': 1280, 'chiropractor': 536, 'fulfilled': 1790, 'exnumbersive': 1464, 'doâ': 1156, 'street': 3997, 'bath': 275, 'spa': 3835, 'kitchen': 2191, 'pulled': 3000, 'wrecked': 4936, 'staffed': 3910, 'silly': 3688, 'meantime': 2370, 'intimate': 2135, 'sexthings': 3602, 'upstairs': 4635, 'continously': 664, 'nowi': 2558, 'twin': 4480, 'identical': 2048, 'understatement': 4538, 'fiddle': 1614, 'thoughtful': 4282, 'humble': 2033, 'core': 695, 'someway': 3805, 'succeed': 4047, 'sheer': 3620, 'stubbornness': 4025, 'prenumberded': 2892, 'speed': 3858, 'prank': 2869, 'national': 2492, 'unused': 4611, 'snowboard': 3764, 'reopen': 3278, 'possess': 2836, 'liar': 2249, 'argue': 179, 'privacy': 2927, 'curtain': 808, 'exaggerate': 1433, 'visible': 4732, 'abnormality': 6, 'theoretically': 4250, 'bird': 336, 'tunnel': 4469, 'genuine': 1826, 'daynumber': 855, 'born': 378, 'weened': 4812, 'engraftment': 1337, 'participate': 2710, 'overthinking': 2677, 'distraction': 1103, 'mod': 2439, 'universal': 4572, 'server': 3588, 'user': 4655, 'friendship': 1779, 'visibility': 4731, 'shy': 3668, 'utorlin': 4666, 'cantaloupe': 464, 'teratoma': 4209, 'laparoscopic': 2207, 'unlikelyâ': 4580, 'uncommonâ': 4518, 'unreal': 4593, 'graduation': 1864, 'prom': 2954, 'pratt': 2870, 'flatmate': 1669, 'safely': 3446, 'resent': 3307, 'worker': 4911, 'fix': 1658, 'potomac': 2854, 'steady': 3944, 'rain': 3066, 'roof': 3405, 'weekly': 4808, 'exceptionally': 1444, 'lap': 2206, 'daycare': 853, 'raspy': 3092, 'sennumberces': 3567, 'lifelong': 2254, 'potter': 2855, 'aloud': 99, 'tracheotomy': 4396, 'finger': 1645, 'conceive': 625, 'dnr': 1118, 'shirt': 3625, 'animal': 125, 'bar': 266, 'tge': 4232, 'trinket': 4443, 'valley': 4684, 'familyn': 1531, 'stall': 3916, 'flick': 1676, 'driveway': 1180, 'nobody': 2535, 'slam': 3721, 'belong': 313, 'lake': 2203, 'raw': 3101, 'elephant': 1277, 'bright': 411, 'smiled': 3749, 'confidence': 633, 'counting': 720, 'midst': 2407, 'effecting': 1258, 'pour': 2857, 'craniotomy': 748, 'technically': 4189, 'prayersgood': 2875, 'hubby': 2029, 'europe': 1400, 'saint': 3450, 'forbid': 1714, 'boat': 370, 'rambley': 3070, 'rental': 3275, 'ma': 2327, 'wretched': 4940, 'uproot': 4628, 'relearn': 3239, 'classmate': 554, 'badr': 257, 'bully': 428, 'pokemon': 2809, 'wander': 4771, 'selfprescribed': 3550, 'swab': 4126, 'rinse': 3385, 'dedication': 899, 'embark': 1289, 'focusing': 1695, 'dam': 827, 'defy': 914, 'crisis': 769, 'caress': 478, 'halt': 1913, 'radiologist': 3058, 'walking': 4767, 'ridden': 3375, 'tiny': 4324, 'essential': 1389, 'ticked': 4307, 'dick': 1011, 'shed': 3619, 'strangely': 3992, 'reliving': 3250, 'qualified': 3022, 'administer': 48, 'continuously': 669, 'anticipatory': 138, 'dizziness': 1113, 'tears': 4185, 'spirit': 3874, 'calf': 446, 'partially': 2709, 'elate': 1272, 'grad': 1859, 'degree': 915, 'steer': 3949, 'motivation': 2462, 'suffocate': 4063, 'sip': 3703, 'assume': 202, 'disfunctiobal': 1076, 'dreaded': 1169, 'unfortunate': 4554, 'reflux': 3199, 'numbermm': 2579, 'bmt': 366, 'match': 2359, 'dig': 1028, 'audience': 218, 'solicit': 3787, 'dfamreling': 994, 'needs': 2509, 'subjective': 4041, 'raskdocs': 3090, 'rhealthanxiety': 3370, 'uncontrollable': 4521, 'egg': 1265, 'recurrance': 3179, 'slur': 3740, 'eatdrinkswallow': 1237, 'walker': 4766, 'wheelchair': 4830, 'deliriumslurred': 926, 'scaredparanoid': 3485, 'cuba': 793, 'angiosarcoma': 122, 'jan': 2159, 'brow': 419, 'negativity': 2511, 'veranda': 4702, 'brings': 413, 'empathy': 1302, 'attitude': 214, 'dec': 882, 'doxil': 1152, 'eyelid': 1504, 'crispy': 770, 'probiotic': 2930, 'metformin': 2399, 'proceeds': 2937, 'angrier': 123, 'wellyou': 4819, 'numbermin': 2578, 'robot': 3394, 'leak': 2223, 'rampthen': 3073, 'nonstop': 2542, 'everysingleday': 1416, 'letting': 2245, 'tea': 4178, 'glaucoma': 1839, 'yellow': 4968, 'itch': 2153, 'kindergarnumber': 2186, 'dishwashing': 1082, 'aurvedic': 221, 'debate': 877, 'india': 2084, 'seat': 3520, 'replacement': 3290, 'rewrite': 3367, 'daysso': 862, 'timebut': 4316, 'rhabdomyosarcoma': 3369, 'withstand': 4887, 'farthest': 1557, 'val': 4680, 'scanxiety': 3481, 'underwent': 4542, 'shortness': 3648, 'reassess': 3138, 'thymic': 4303, 'vocal': 4742, 'absence': 10, 'voiceless': 4744, 'timeline': 4319, 'uneasy': 4545, 'cousinâ': 731, 'friendâ': 1780, 'acquaintance': 27, 'unwell': 4615, 'forge': 1722, 'conundrum': 677, 'consults': 656, 'trained': 4407, 'indication': 2086, 'estrange': 1394, 'twenty': 4478, 'blinder': 354, 'smarter': 3745, 'earn': 1226, 'jesus': 2162, 'backdrop': 252, 'pod': 2801, 'portrait': 2830, 'police': 2811, 'everynumbers': 1414, 'shitload': 3628, 'rum': 3429, 'surprised': 4109, 'clump': 576, 'startle': 3932, 'eventual': 1407, 'wedding': 4803, 'rcancer': 3105, 'systemic': 4150, 'seminal': 3558, 'vesicle': 4710, 'irinotecan': 2144, 'numberfu': 2572, 'finacã': 1633, 'blog': 358, 'deathstar': 876, 'tie': 4309, 'fightersâ': 1621, 'eloquently': 1283, 'sorrow': 3818, 'doom': 1133, 'tun': 4468, 'familybut': 1530, 'equip': 1371, 'somewhat': 3806, 'moan': 2436, 'rood': 3404, 'air': 83, 'cardiologist': 472, 'whirl': 4845, 'andor': 118, 'copy': 693, 'cowdog': 739, 'chemoradiation': 526, 'yo': 4978, 'smoker': 3752, 'somethingsomenumber': 3802, 'roswell': 3410, 'slurry': 3741, 'painkiller': 2694, 'dictator': 1012, 'sacrifice': 3438, 'creator': 759, 'whoever': 4852, 'reincarnated': 3221, 'aug': 220, 'did': 1013, 'upsetting': 4632, 'feedback': 1586, 'sympathetic': 4143, 'dar': 839, 'screamâ': 3509, 'bike': 327, 'offering': 2614, 'indoors': 2088, 'hike': 1975, 'timeâ': 4320, 'fortunately': 1745, 'shall': 3607, 'ostomy': 2661, 'creation': 758, 'reversal': 3359, 'fixed': 1659, 'fb': 1574, 'messenger': 2393, 'ehh': 1267, 'nsclc': 2562, 'checkup': 519, 'shortterm': 3649, 'worldwide': 4918, 'worrying': 4923, 'fda': 1579, 'skate': 3710, 'corona': 698, 'destructive': 972, 'reward': 3366, 'alleviate': 93, 'unconscious': 4520, 'misery': 2427, 'cheat': 516, 'combat': 594, 'sanityrestoring': 3465, 'vague': 4678, 'sideeffects': 3677, 'wonlost': 4904, 'vaguely': 4679, 'lethargic': 2243, 'disc': 1055, 'remnant': 3265, 'accomplish': 21, 'greedy': 1885, 'ps': 2984, 'tab': 4151, 'submit': 4042, 'uhnah': 4494, 'famrelbled': 1535, 'population': 2824, 'computer': 623, 'strokeseizure': 4014, 'episodeâ': 1369, 'reluctantly': 3251, 'toâ': 4391, 'dreamt': 1173, 'custom': 812, 'titanium': 4332, 'endoprosthesis': 1325, 'wolverine': 4898, 'remainder': 3254, 'showingfuneral': 3658, 'bypass': 441, 'stargaze': 3929, 'promised': 2957, 'seattle': 3521, 'baseball': 271, 'grandchild': 1868, 'flower': 1685, 'washroom': 4784, 'sensual': 3573, 'rollercoaster': 3402, 'nearby': 2500, 'endoscopic': 1326, 'restaged': 3334, 'thoracic': 4277, 'difficulty': 1026, 'drastic': 1165, 'cbd': 494, 'broke': 414, 'sleeve': 3726, 'jake': 2158, 'thoughtsprayersmeditations': 4284, 'thankyou': 4240, 'eveynumber': 1422, 'contribute': 674, 'charity': 513, 'recentlywell': 3152, 'repeater': 3286, 'fam': 1527, 'sensed': 3570, 'saving': 3472, 'topic': 4369, 'esp': 1386, 'solo': 3790, 'saddened': 3442, 'continent': 663, 'petty': 2750, 'cliche': 560, 'unplanned': 4588, 'retirement': 3347, 'politician': 2813, 'zombie': 4998, 'spiritual': 3875, 'app': 157, 'engineering': 1334, 'london': 2290, 'design': 959, 'solve': 3792, 'unfeasible': 4551, 'punctuation': 3006, 'numbersion': 2585, 'verbally': 4704, 'sensitive': 3572, 'disrespect': 1091, 'strained': 3988, 'rely': 3252, 'distaste': 1100, 'errands': 1378, 'workingand': 4913, 'lbs': 2221, 'eerily': 1256, 'taker': 4159, 'disturb': 1107, 'statement': 3936, 'envision': 1365, 'repaid': 3281, 'branch': 398, 'debt': 880, 'candidate': 461, 'route': 3416, 'dos': 1139, 'guarantee': 1898, 'cm': 577, 'disappointed': 1052, 'bowl': 392, 'delirious': 924, 'yanno': 4957, 'detach': 973, 'tournament': 4383, 'austin': 223, 'tx': 4483, 'determined': 981, 'prevent': 2911, 'purposely': 3014, 'aspect': 197, 'downward': 1151, 'sporadic': 3884, 'withdrawn': 4883, 'silence': 3685, 'actively': 32, 'cyclical': 820, 'pattern': 2723, 'therapeutic': 4253, 'dh': 995, 'dd': 867, 'dsnumber': 1190, 'wjay': 4889, 'ridiculous': 3377, 'trillion': 4442, 'dollar': 1128, 'fraction': 1754, 'despicable': 966, 'roomful': 3407, 'radialogist': 3050, 'shattered': 3616, 'relaxation': 3236, 'dirty': 1045, 'artery': 188, 'seed': 3536, 'tlme': 4335, 'raeding': 3062, 'prevention': 2913, 'disagree': 1049, 'western': 4822, 'practice': 2866, 'unusual': 4612, 'punishment': 3008, 'trading': 4400, 'imagining': 2058, 'click': 561, 'reveals': 3356, 'vna': 4740, 'dorm': 1137, 'pt': 2993, 'reafamrelably': 3124, 'fort': 1739, 'email': 1286, 'riley': 3382, 'emails': 1288, 'fightwithrileygmailcom': 1625, 'pee': 2730, 'cuss': 810, 'possession': 2837, 'metastases': 2395, 'sht': 3663, 'thoraxlungs': 4278, 'weekendaround': 4807, 'shtless': 3664, 'fcked': 1576, 'neighbour': 2513, 'fcking': 1578, 'tumorâ': 4465, 'dissociate': 1096, 'seehear': 3537, 'doctorsgetting': 1123, 'ssi': 3900, 'factory': 1514, 'spree': 3892, 'wnew': 4891, 'furniture': 1800, 'subtype': 4046, 'mediastinal': 2373, 'softball': 3784, 'rchop': 3108, 'suv': 4124, 'tomato': 4354, 'rice': 3372, 'sct': 3514, 'sucker': 4054, 'sunlight': 4075, 'rlymphoma': 3390, 'unnoticed': 4587, 'reunite': 3354, 'oesophagus': 2610, 'ponumbertially': 2816, 'st': 3901, 'vincents': 4725, 'sincere': 3696, 'misdiagnosed': 2425, 'toenail': 4347, 'toe': 4346, 'yep': 4969, 'cavity': 493, 'wasis': 4785, 'ooze': 2635, 'stuffed': 4031, 'gauze': 1819, 'unpleasant': 4589, 'dumb': 1198, 'virus': 4730, 'setup': 3595, 'via': 4714, 'trabectedine': 4393, 'embolize': 1292, 'suture': 4123, 'tape': 4170, 'worknights': 4914, 'cramps': 747, 'urostomy': 4647, 'famreldyâ': 1537, 'impress': 2071, 'tuberculosis': 4463, 'puncture': 3007, 'widespread': 4861, 'external': 1493, 'maternal': 2361, 'exhaustion': 1457, 'forgetfulness': 1725, 'experienced': 1476, 'fibula': 1613, 'tibia': 4305, 'reshape': 3312, 'crippling': 768, 'deserves': 958, 'flot': 1684, 'steam': 3948, 'threanumbering': 4287, 'escort': 1382, 'typical': 4487, 'fininumberess': 1646, 'loveâ': 2310, 'automatic': 228, 'filter': 1631, 'extravagant': 1497, 'positivity': 2835, 'displace': 1089, 'aspiration': 198, 'thisâ': 4276, 'mam': 2341, 'fck': 1575, 'everybody': 1411, 'retroperitnumberal': 3349, 'germ': 1828, 'spreading': 3891, 'etoposide': 1398, 'dissection': 1095, 'autologous': 227, 'rplnd': 3421, 'valve': 4686, 'reroute': 3300, 'coordinate': 688, 'nobodys': 2536, 'transaschemic': 4412, 'soulmate': 3826, 'stool': 3980, 'semiokayat': 3560, 'terribly': 4215, 'presumbly': 2908, 'darling': 844, 'endoflife': 1323, 'euthanasia': 1401, 'delivery': 929, 'bundle': 431, 'dealonly': 871, 'explanation': 1483, 'fmla': 1690, 'sparingly': 3841, 'wmets': 4890, 'staple': 3925, 'belly': 312, 'epidural': 1367, 'uselessly': 4654, 'stead': 3943, 'omg': 2626, 'starve': 3934, 'restaurant': 3335, 'examine': 1436, 'prescription': 2902, 'fella': 1596, 'aftermath': 68, 'encapsulate': 1310, 'daryll': 846, 'wheeee': 4828, 'dry': 1188, 'optic': 2647, 'veeeery': 4692, 'identify': 2049, 'dangerous': 835, 'rareness': 3085, 'stopped': 3982, 'bay': 280, 'sayhes': 3475, 'linh': 2266, 'longterm': 2293, 'um': 4501, 'forgets': 1727, 'release': 3240, 'decides': 889, 'sewn': 3600, 'evil': 1424, 'treatmentpalliative': 4432, 'cutie': 817, 'worthwhile': 4929, 'resistant': 3319, 'regime': 3207, 'unmanageable': 4584, 'scheded': 3491, 'communication': 608, 'mindful': 2417, 'modern': 2441, 'version': 4708, 'snake': 3756, 'fckin': 1577, 'residual': 3315, 'weeksif': 4811, 'hospitalization': 2016, 'quarantaine': 3026, 'surely': 4096, 'sacrum': 3439, 'dxâ': 1214, 'superior': 4080, 'whereby': 4835, 'weeksi': 4810, 'leftâ': 2231, 'blurt': 365, 'encouraged': 1315, 'senior': 3565, 'ut': 4659, 'trapped': 4420, 'education': 1252, 'cystic': 823, 'lunch': 2320, 'secretive': 3527, 'applies': 164, 'resilient': 3318, 'shld': 3632, 'encouragementit': 1317, 'traumatize': 4424, 'flashback': 1667, 'gran': 1866, 'stongest': 3978, 'invade': 2138, 'famreldys': 1536, 'anaplastic': 117, 'whither': 4850, 'duck': 1193, 'nodule': 2540, 'folliculer': 1705, 'follicle': 1704, 'rpapatom': 3420, 'soothing': 3814, 'shorter': 3646, 'tonsils': 4361, 'suckiness': 4055, 'bake': 259, 'sammy': 3457, 'strep': 4000, 'repair': 3282, 'sd': 3515, 'sioux': 3702, 'rochester': 3395, 'thirteen': 4272, 'ply': 2794, 'tinge': 4322, 'wack': 4755, 'referred': 3195, 'gall': 1809, 'duodenum': 1205, 'secrete': 3526, 'innocent': 2108, 'scheduled': 3493, 'whipple': 4844, 'remarkably': 3255, 'poifamrel': 2804, 'urethra': 4641, 'studying': 4029, 'messy': 2394, 'reoccurrence': 3277, 'stew': 3958, 'ashamed': 192, 'utmost': 4665, 'weaken': 4797, 'king': 2189, 'tooâ': 4367, 'recharge': 3154, 'solace': 3785, 'thee': 4247, 'trace': 4394, 'dome': 1129, 'crc': 754, 'tether': 4227, 'unattractive': 4507, 'speculation': 3856, 'courtesy': 728, 'tightly': 4312, 'exception': 1442, 'wnumberhnumber': 4893, 'ratio': 3097, 'style': 4038, 'deny': 942, 'crybaby': 790, 'edgy': 1248, 'unforeseeable': 4552, 'regulars': 3219, 'sucky': 4056, 'posting': 2846, 'towel': 4387, 'razor': 3103, 'backstory': 254, 'torso': 4373, 'rime': 3383, 'empower': 1306, 'speck': 3853, 'godâ': 1848, 'tarceva': 4171, 'worldâ': 4919, 'traditional': 4402, 'treatments': 4433, 'san': 3459, 'francisco': 1759, 'yosemite': 4982, 'downturn': 1149, 'staged': 3913, 'weeks': 4809, 'pleasant': 2785, 'skeleton': 3711, 'fold': 1698, 'sniff': 3761, 'this': 4274, 'warmth': 4779, 'reconcile': 3164, 'audibly': 217, 'forehead': 1717, 'fortress': 1743, 'regarding': 3204, 'rich': 3373, 'seemingly': 3540, 'worsen': 4925, 'diagnostics': 1005, 'cultivate': 795, 'unmatched': 4586, 'unsaid': 4600, 'immensely': 2062, 'relativity': 3234, 'scaryâ': 3487, 'famrelgs': 1542, 'too': 4362, 'inappropriate': 2074, 'suit': 4071, 'psychologist': 2991, 'yesterdayâ': 4975, 'fling': 1678, 'quackery': 3021, 'snakeoil': 3757, 'rubbish': 3424, 'sorta': 3822, 'fistsized': 1655, 'emailcard': 1287, 'bitch': 340, 'librarian': 2250, 'owe': 2682, 'feeâ': 1594, 'responsibility': 3330, 'editthank': 1251, 'limb': 2262, 'preparednessko': 2899, 'similarly': 3691, 'sweetselflessfunnygenerous': 4136, 'fodder': 1696, 'extract': 1496, 'crumble': 783, 'eeegh': 1254, 'witg': 4881, 'ofcourse': 2611, 'wantisnt': 4775, 'threanumbers': 4288, 'tirwd': 4330, 'visir': 4734, 'sedond': 3534, 'strongee': 4018, 'selfishly': 3549, 'fake': 1524, 'screems': 3510, 'everythings': 1418, 'thinga': 4265, 'warn': 4780, 'tohang': 4349, 'sell': 3554, 'trusting': 4458, 'trainer': 4408, 'egh': 1266, 'ew': 1425, 'delegate': 921, 'task': 4174, 'cookinggrocerieshousework': 685, 'whiny': 4843, 'efficient': 1262, 'mychart': 2481, 'chart': 514, 'reservation': 3310, 'fancy': 1552, 'fiend': 1616, 'reflect': 3197, 'twelve': 4477, 'posttreatmemt': 2850, 'sodas': 3782, 'sugary': 4065, 'diagnosedand': 1001, 'donation': 1131, 'ultimate': 4497, 'exposure': 1490, 'aim': 82, 'recipes': 3157, 'facetime': 1508, 'enrage': 1347, 'paranoid': 2705, 'vote': 4751, 'ban': 263, 'obvious': 2602, 'soda': 3781, 'upvotes': 4637, 'downvotes': 1150, 'slap': 3722, 'denier': 937, 'theorist': 4251, 'rconspiracy': 3109, 'legitimately': 2234, 'strictly': 4008, 'semirealistic': 3562, 'unusually': 4613, 'reserve': 3311, 'fool': 1711, 'aa': 0, 'divine': 1110, 'observe': 2599, 'examination': 1435, 'devos': 991, 'feelingmovement': 1590, 'droop': 1181, 'joshs': 2166, 'removed': 3268, 'que': 3031, 'descansas': 955, 'unaware': 4508, 'animate': 126, 'podcast': 2802, 'duncan': 1202, 'trussell': 4455, 'silver': 3689, 'rail': 3065, 'ewing': 1426, 'boston': 382, 'vermont': 4707, 'savannah': 3470, 'tedder': 4193, 'david': 850, 'sox': 3834, 'player': 2783, 'survey': 4115, 'ux': 4672, 'designer': 960, 'progressively': 2951, 'sicker': 3672, 'depressing': 950, 'trajectory': 4410, 'unforgettable': 4553, 'supply': 4085, 'sorryâ': 3820, 'wood': 4906, 'evaluate': 1402, 'entertain': 1355, 'freaky': 1763, 'sinus': 3701, 'quarterly': 3029, 'shoulderback': 3653, 'mosquito': 2458, 'ent': 1352, 'traumatized': 4425, 'skeptical': 3712, 'fiery': 1618, 'secondary': 3523, 'rumple': 3430, 'supermarket': 4082, 'dissatisfy': 1094, 'appearance': 161, 'are': 177, 'heroâ': 1966, 'enquiry': 1346, 'worn': 4920, 'dishevel': 1079, 'poem': 2803, 'deexl': 906, 'depressant': 948, 'secondopinion': 3524, 'prominent': 2955, 'surprisingly': 4111, 'sufficient': 4062, 'veteran': 4713, 'awaken': 239, 'contort': 670, 'defibrillator': 911, 'yard': 4958, 'sock': 3780, 'training': 4409, 'relent': 3241, 'waiting': 4760, 'poorly': 2821, 'pure': 3011, 'instal': 2121, 'twitch': 4481, 'dayshours': 860, 'capable': 465, 'sneeze': 3760, 'stubble': 4023, 'todaymy': 4342, 'eradicate': 1375, 'cake': 443, 'vanilla': 4688, 'strawberry': 3994, 'rude': 3425, 'sloane': 3733, 'springsteen': 3894, 'wrangle': 4933, 'singingdancing': 3698, 'dork': 1136, 'semi': 3557, 'underappreciated': 4524, 'unloved': 4582, 'sting': 3966, 'toss': 4375, 'angel': 120, 'whop': 4856, 'reel': 3189, 'boy': 393, 'prek': 2888, 'dozen': 1155, 'typically': 4488, 'premonition': 2890, 'wisely': 4879, 'mo': 2435, 'snumbert': 3766, 'wine': 4872, 'reliant': 3244, 'exmil': 1461, 'tipssuggestions': 4327, 'sponsor': 3883, 'eligibility': 1279, 'sticky': 3961, 'favourites': 1573, 'unified': 4567, 'rcancerfamilysupport': 3107, 'unprecedented': 4590, 'continual': 665, 'receiving': 3147, 'maker': 2338, 'ppc': 2862, 'prolong': 2953, 'dx': 1213, 'spring': 3893, 'shield': 3622, 'executor': 1451, 'ventilation': 4700, 'twitter': 4482, 'radio': 3054, 'blm': 355, 'movement': 2468, 'eldest': 1275, 'rt': 3422, 'distancing': 1098, 'honour': 1999, 'protest': 2972, 'retweeted': 3352, 'racism': 3048, 'deleted': 923, 'zoom': 4999, 'vulgar': 4752, 'delete': 922, 'reconciledâ': 3165, 'sweep': 4134, 'victim': 4717, 'correctly': 704, 'thx': 4302, 'unkindâ': 4575, 'daysweeks': 863, 'ship': 3624, 'lumpectomy': 2319, 'sentinel': 3577, 'prophylactic': 2964, 'fertility': 1602, 'freeze': 1767, 'rapid': 3081, 'reopening': 3279, 'stadium': 3908, 'capacity': 466, 'unfulfilling': 4556, 'todo': 4345, 'autonomy': 229, 'pleasure': 2788, 'shithead': 3627, 'eager': 1221, 'universe': 4573, 'rag': 3063, 'seize': 3541, 'resuscitatedâ': 3342, 'slump': 3739, 'educational': 1253, 'program': 2948, 'reschedule': 3301, 'surety': 4097, 'exfamrel': 1453, 'po': 2799, 'prenupt': 2894, 'realist': 3129, 'decent': 886, 'unanswerable': 4506, 'vulvar': 4754, 'productive': 2941, 'exnumbersively': 1465, 'stabilization': 3902, 'site': 3706, 'numberxnumbermm': 2589, 'satellite': 3469, 'flabbergasted': 1662, 'surpass': 4106, 'sbrt': 3477, 'saga': 3448, 'scribble': 3513, 'updated': 4621, 'somy': 3809, 'tom': 4353, 'rack': 3049, 'sobs': 3774, 'stunning': 4035, 'ridiculously': 3378, 'stood': 3979, 'superhero': 4079, 'relatives': 3233, 'poifamrelous': 2806, 'unheard': 4562, 'youngi': 4988, 'sloppy': 3735, 'ewingâ': 1428, 'shannon': 3611, 'wasam': 4782, 'freeâ': 1769, 'tumours': 4467, 'spoil': 3880, 'vbucks': 4690, 'fortnite': 1742, 'sneak': 3759, 'endlessly': 1322, 'everynumberâ': 1415, 'zap': 4993, 'problematic': 2932, 'uplift': 4624, 'spousefamrelfriendany': 3888, 'veggie': 4694, 'puree': 3012, 'infuriate': 2099, 'sickly': 3673, 'cystectomy': 822, 'switched': 4141, 'diaphragm': 1009, 'echo': 1241, 'disturbed': 1108, 'climb': 562, 'wale': 4763, 'england': 1335, 'scotland': 3505, 'numberx': 2588, 'slog': 3734, 'torture': 4374, 'weather': 4800, 'dutifully': 1210, 'ucf': 4490, 'somber': 3793, 'tallest': 4166, 'sand': 3460, 'dune': 1203, 'sri': 3899, 'deeper': 903, 'forecast': 1716, 'wrestle': 4939, 'selfsatisfaction': 3551, 'rabbit': 3046, 'tmj': 4336, 'ppliance': 2863, 'targeted': 4173, 'decades': 884, 'firstline': 1653, 'undereporting': 4525, 'postdiagnosis': 2843, 'dipgâ': 1039, 'dipg': 1038, 'pons': 2814, 'dormant': 1138, 'expnumberntially': 1488, 'postradiation': 2849, 'resectable': 3304, 'vessel': 4711, 'feature': 1582, 'ventricle': 4701, 'firmly': 1651, 'crushed': 786, 'sobbing': 3772, 'crochet': 774, 'forgetful': 1724, 'stanford': 3924, 'svc': 4125, 'pleural': 2791, 'effusion': 1264, 'flutter': 1688, 'tolerate': 4351, 'rcancercaregivers': 3106, 'relationshipadvice': 3230, 'todayâ': 4343, 'unaffected': 4505, 'project': 2952, 'diseasetreatment': 1074, 'spaceâ': 3837, 'tonightâ': 4359, 'forums': 1747, 'formative': 1735, 'unhappiness': 4559, 'dire': 1041, 'strait': 3989, 'courtroom': 729, 'sexual': 3603, 'forthright': 1741, 'creep': 761, 'proximity': 2981, 'tooth': 4365, 'crown': 778, 'respectful': 3324, 'fixer': 1660, 'reader': 3117, 'rarer': 3086, 'pleomorphic': 2790, 'ultra': 4499, 'situ': 3707, 'unhook': 4564, 'fantastic': 1553, 'unwelcome': 4614, 'teens': 4198, 'coronathing': 699, 'print': 2923, 'dlbcl': 1116, 'cytarabine': 824, 'fosfamide': 1750, 'doxorubicin': 1153, 'surgically': 4104, 'stableâ': 3906, 'spaghetti': 3838, 'cutest': 816, 'processing': 2939, 'routinely': 3418, 'dutiesshifts': 1209, 'specialize': 3848, 'radical': 3053, 'freely': 1766, 'pension': 2734, 'practical': 2864, 'attorney': 215, 'debit': 879, 'thay': 4243, 'touching': 4379, 'postpone': 2848, 'scenery': 3490, 'isle': 2146, 'regretful': 3215, 'victory': 4719, 'drank': 1164, 'toast': 4339, 'square': 3897, 'creamy': 756, 'juice': 2169, 'fightthrough': 1624, 'feetthrough': 1593, 'trach': 4395, 'erode': 1377, 'utter': 4667, 'restroom': 3338, 'encircle': 1312, 'disjoint': 1083, 'edema': 1246, 'floating': 1680, 'eachother': 1220, 'string': 4010, 'daynight': 854, 'ureter': 4640, 'removedsurvived': 3269, 'cosmetic': 706, 'shana': 3610, 'stroll': 4015, 'forâ': 1749, 'stunned': 4034, 'entryway': 1362, 'resembled': 3306, 'sparkle': 3843, 'separation': 3579, 'proceeding': 2936, 'tax': 4177, 'custody': 811, 'reunion': 3353, 'planning': 2776, 'famrelia': 1543, 'encephalopathy': 1311, 'engagement': 1333, 'aprn': 176, 'criticalwithholding': 772, 'emotionalsensitive': 1300, 'ulcer': 4496, 'servicessupport': 3590, 'exasperated': 1439, 'realizes': 3136, 'vomitingdiarrhea': 4749, 'disappoint': 1051, 'walkout': 4768, 'convo': 681, 'review': 3361, 'discrepancy': 1067, 'folder': 1699, 'dietitian': 1020, 'stimulate': 3963, 'profit': 2945, 'transform': 4414, 'retail': 3343, 'flee': 1671, 'temple': 4206, 'socialize': 3777, 'sail': 3449, 'retell': 3345, 'updates': 4622, 'snumber': 3765, 'tripled': 4446, 'fineexcept': 1643, 'smidge': 3747, 'yervoyopdivo': 4971, 'questionable': 3033, 'reoccur': 3276, 'pooling': 2817, 'sekiro': 3544, 'playthrough': 2784, 'trophy': 4448, 'foundation': 1753, 'dish': 1078, 'strip': 4011, 'unturnedâ': 4610, 'enjoyable': 1341, 'souls': 3827, 'recreate': 3173, 'destiny': 969, 'unto': 4608, 'vigilance': 4724}\n",
            "(563, 5000)\n"
          ],
          "name": "stdout"
        }
      ]
    },
    {
      "cell_type": "code",
      "metadata": {
        "id": "1hN6AsE-UVHD"
      },
      "source": [
        "#n-gram Tokenization\n",
        "tfidf_vect_ngram = None\n",
        "tfidf_vect_ngram = TfidfVectorizer(analyzer='word', token_pattern=r'\\w{1,}', ngram_range=(1,3), max_features=8000)\n",
        "tfidf_vect_ngram.fit(df['lemma_str'])\n",
        "Train_X_ngram =  tfidf_vect_ngram.transform(Train_X)\n",
        "Test_X_ngram =  tfidf_vect_ngram.transform(Test_X)\n"
      ],
      "execution_count": null,
      "outputs": []
    },
    {
      "cell_type": "code",
      "metadata": {
        "id": "d1agO9pa0awF"
      },
      "source": [
        ""
      ],
      "execution_count": null,
      "outputs": []
    },
    {
      "cell_type": "code",
      "metadata": {
        "id": "xdmfACIVi8BS",
        "colab": {
          "base_uri": "https://localhost:8080/"
        },
        "outputId": "31db21cc-961b-4007-9334-9af7b8ec6f5b"
      },
      "source": [
        "print(Train_X_ngram.shape)\n",
        "print(Train_X_ngram)"
      ],
      "execution_count": null,
      "outputs": [
        {
          "output_type": "stream",
          "text": [
            "(563, 8000)\n",
            "  (0, 7717)\t0.04901381944250928\n",
            "  (0, 7693)\t0.03857293839992957\n",
            "  (0, 7678)\t0.034056986401588184\n",
            "  (0, 7478)\t0.03726475722750591\n",
            "  (0, 7300)\t0.027773761885936672\n",
            "  (0, 7183)\t0.03139865673585547\n",
            "  (0, 7178)\t0.05912473409441444\n",
            "  (0, 7135)\t0.0633882086624644\n",
            "  (0, 7074)\t0.03238374798526644\n",
            "  (0, 7011)\t0.04896465834613261\n",
            "  (0, 7010)\t0.0667520399681066\n",
            "  (0, 6996)\t0.08250884163449748\n",
            "  (0, 6990)\t0.07708839772942602\n",
            "  (0, 6975)\t0.06179366515814109\n",
            "  (0, 6913)\t0.07708839772942602\n",
            "  (0, 6911)\t0.08250884163449748\n",
            "  (0, 6909)\t0.06782208766956922\n",
            "  (0, 6891)\t0.0935438358599479\n",
            "  (0, 6843)\t0.0507600100702686\n",
            "  (0, 6687)\t0.07952575609029218\n",
            "  (0, 6670)\t0.028169474569414592\n",
            "  (0, 6624)\t0.039747509382652466\n",
            "  (0, 6535)\t0.16501768326899496\n",
            "  (0, 6529)\t0.09691602111896927\n",
            "  (0, 6461)\t0.04847900974411392\n",
            "  :\t:\n",
            "  (562, 1141)\t0.0636296483791453\n",
            "  (562, 1101)\t0.06811860098856967\n",
            "  (562, 1037)\t0.04466481255579072\n",
            "  (562, 1036)\t0.08207799399155878\n",
            "  (562, 1022)\t0.04488971023376661\n",
            "  (562, 954)\t0.07558724587987374\n",
            "  (562, 945)\t0.03666261501285637\n",
            "  (562, 641)\t0.07327059760417574\n",
            "  (562, 550)\t0.044907241053831745\n",
            "  (562, 525)\t0.06556880145416309\n",
            "  (562, 506)\t0.032801081613411685\n",
            "  (562, 497)\t0.0784225942197818\n",
            "  (562, 474)\t0.02779598128232655\n",
            "  (562, 466)\t0.07131189939591574\n",
            "  (562, 404)\t0.06080780144501571\n",
            "  (562, 325)\t0.030557669200924203\n",
            "  (562, 284)\t0.060037481532957224\n",
            "  (562, 279)\t0.10084587711242426\n",
            "  (562, 273)\t0.04084331385553094\n",
            "  (562, 212)\t0.021105867215865073\n",
            "  (562, 93)\t0.052403816308060125\n",
            "  (562, 72)\t0.07327059760417574\n",
            "  (562, 70)\t0.052403816308060125\n",
            "  (562, 69)\t0.0625045030085327\n",
            "  (562, 18)\t0.023436486231938333\n"
          ],
          "name": "stdout"
        }
      ]
    },
    {
      "cell_type": "code",
      "metadata": {
        "id": "4Gcw6L2-Re0m"
      },
      "source": [
        "X_train = Train_X_ngram\n",
        "Y_train = Train_Y\n",
        "X_test = Test_X_ngram\n",
        "Y_test = Test_Y"
      ],
      "execution_count": null,
      "outputs": []
    },
    {
      "cell_type": "code",
      "metadata": {
        "colab": {
          "base_uri": "https://localhost:8080/",
          "height": 316
        },
        "id": "Llh4_blS8Tmd",
        "outputId": "213914c9-bfd9-4b19-c848-16701de43a4b"
      },
      "source": [
        "import matplotlib.pyplot as plt\n",
        "\n",
        "plt.hist(Y_test)"
      ],
      "execution_count": null,
      "outputs": [
        {
          "output_type": "execute_result",
          "data": {
            "text/plain": [
              "(array([14.,  0., 71.,  0.,  0., 18.,  0., 25.,  0., 13.]),\n",
              " array([0. , 0.4, 0.8, 1.2, 1.6, 2. , 2.4, 2.8, 3.2, 3.6, 4. ]),\n",
              " <a list of 10 Patch objects>)"
            ]
          },
          "metadata": {
            "tags": []
          },
          "execution_count": 303
        },
        {
          "output_type": "display_data",
          "data": {
            "image/png": "[encoded data removed]",
            "text/plain": [
              "<Figure size 432x288 with 1 Axes>"
            ]
          },
          "metadata": {
            "tags": [],
            "needs_background": "light"
          }
        }
      ]
    },
    {
      "cell_type": "code",
      "metadata": {
        "id": "Mp8wLL5tmGIh"
      },
      "source": [
        "# #Confusion Matrix\n",
        "# import seaborn as sn\n",
        "# import pandas as pd\n",
        "# import matplotlib.pyplot as plt\n",
        "\n",
        "# from sklearn.metrics import confusion_matrix\n",
        "# array = confusion_matrix(Y_test, predictions_SVM)\n",
        "# # df_cm = pd.DataFrame(array, index = ['0','1','2','3','4','5','6','7','8','9'],\n",
        "# #                   columns =  ['0','1','2','3','4','5','6','7','8','9'])\n",
        "# df_cm = pd.DataFrame(array, index = ['0','8','9','5','7','1','2'],\n",
        "#                   columns = ['0','8','9','5','7','1','2'])\n",
        "# plt.figure(figsize = (10,7))\n",
        "# sn.heatmap(df_cm, annot=True)\n",
        "\n",
        "\n"
      ],
      "execution_count": null,
      "outputs": []
    },
    {
      "cell_type": "code",
      "metadata": {
        "id": "xp2AJcJXNfXQ"
      },
      "source": [
        "models = [\n",
        "    svm.SVC(C=1.0, kernel='linear', degree=10, gamma='auto'),\n",
        "    RandomForestClassifier(n_estimators=200, max_depth=3, random_state=0),\n",
        "    LinearSVC(),\n",
        "    MultinomialNB(),\n",
        "    LogisticRegression(random_state=0),\n",
        "]"
      ],
      "execution_count": null,
      "outputs": []
    },
    {
      "cell_type": "code",
      "metadata": {
        "id": "z2iPUyGeOI2Y"
      },
      "source": [
        "CV = 5\n",
        "cv_df = pd.DataFrame(index=range(CV * len(models)))\n",
        "entries = []\n",
        "y_preds=[]\n",
        "for model in models:\n",
        "  model_name = model.__class__.__name__\n",
        "  accuracies = cross_val_score(model, X_train, Train_Y, scoring='accuracy', cv=CV)\n",
        "  for fold_idx, accuracy in enumerate(accuracies):\n",
        "    entries.append((model_name, fold_idx, accuracy*100))\n",
        "cv_df = pd.DataFrame(entries, columns=['model_name', 'fold_idx', 'accuracy'])"
      ],
      "execution_count": null,
      "outputs": []
    },
    {
      "cell_type": "code",
      "metadata": {
        "colab": {
          "base_uri": "https://localhost:8080/"
        },
        "id": "_rujUhCAQCwg",
        "outputId": "023cf819-fd11-47b7-c254-d69c8c9de260"
      },
      "source": [
        "cv_df.groupby('model_name').accuracy.mean()"
      ],
      "execution_count": null,
      "outputs": [
        {
          "output_type": "execute_result",
          "data": {
            "text/plain": [
              "model_name\n",
              "LinearSVC                 62.522124\n",
              "LogisticRegression        57.368837\n",
              "MultinomialNB             55.772756\n",
              "RandomForestClassifier    55.772756\n",
              "SVC                       61.281606\n",
              "Name: accuracy, dtype: float64"
            ]
          },
          "metadata": {
            "tags": []
          },
          "execution_count": 306
        }
      ]
    },
    {
      "cell_type": "code",
      "metadata": {
        "colab": {
          "base_uri": "https://localhost:8080/"
        },
        "id": "OYZr_au1QNoe",
        "outputId": "10bf1379-4dad-4406-fc72-bb21ee73808d"
      },
      "source": [
        "print(cv_df)"
      ],
      "execution_count": null,
      "outputs": [
        {
          "output_type": "stream",
          "text": [
            "                model_name  fold_idx   accuracy\n",
            "0                      SVC         0  61.946903\n",
            "1                      SVC         1  62.831858\n",
            "2                      SVC         2  57.522124\n",
            "3                      SVC         3  61.607143\n",
            "4                      SVC         4  62.500000\n",
            "5   RandomForestClassifier         0  55.752212\n",
            "6   RandomForestClassifier         1  55.752212\n",
            "7   RandomForestClassifier         2  55.752212\n",
            "8   RandomForestClassifier         3  56.250000\n",
            "9   RandomForestClassifier         4  55.357143\n",
            "10               LinearSVC         0  65.486726\n",
            "11               LinearSVC         1  61.061947\n",
            "12               LinearSVC         2  61.061947\n",
            "13               LinearSVC         3  61.607143\n",
            "14               LinearSVC         4  63.392857\n",
            "15           MultinomialNB         0  55.752212\n",
            "16           MultinomialNB         1  55.752212\n",
            "17           MultinomialNB         2  55.752212\n",
            "18           MultinomialNB         3  56.250000\n",
            "19           MultinomialNB         4  55.357143\n",
            "20      LogisticRegression         0  58.407080\n",
            "21      LogisticRegression         1  59.292035\n",
            "22      LogisticRegression         2  55.752212\n",
            "23      LogisticRegression         3  57.142857\n",
            "24      LogisticRegression         4  56.250000\n"
          ],
          "name": "stdout"
        }
      ]
    },
    {
      "cell_type": "code",
      "metadata": {
        "id": "1YXKOzkiPACb"
      },
      "source": [
        "#Implementing KNN \n",
        "from sklearn.neighbors import KNeighborsClassifier\n",
        "from sklearn import metrics\n",
        "\n",
        "scores={}\n",
        "scores_list=[]\n",
        "k_range = range(1,10)\n",
        "for k in k_range:\n",
        "  knn=KNeighborsClassifier(n_neighbors=k)\n",
        "  knn.fit(X_train, Y_train)\n",
        "  y_pred= knn.predict(X_test)\n",
        "  temp=metrics.accuracy_score(y_pred,Y_test)\n",
        "  scores[k]=temp\n",
        "  scores_list.append(temp)\n",
        "\n"
      ],
      "execution_count": null,
      "outputs": []
    },
    {
      "cell_type": "code",
      "metadata": {
        "colab": {
          "base_uri": "https://localhost:8080/",
          "height": 296
        },
        "id": "5iD_JtprQygm",
        "outputId": "f6749676-42cb-4b26-ea07-f43fd670de3f"
      },
      "source": [
        "#Visualize accuracy vs K\n",
        "%matplotlib inline\n",
        "import matplotlib.pyplot as plt\n",
        "plt.plot(k_range, scores_list)\n",
        "plt.xlabel(\"Values of K\")\n",
        "plt.ylabel(\"Testing Accuracy\")"
      ],
      "execution_count": null,
      "outputs": [
        {
          "output_type": "execute_result",
          "data": {
            "text/plain": [
              "Text(0, 0.5, 'Testing Accuracy')"
            ]
          },
          "metadata": {
            "tags": []
          },
          "execution_count": 311
        },
        {
          "output_type": "display_data",
          "data": {
            "image/png": "[encoded data removed]",
            "text/plain": [
              "<Figure size 432x288 with 1 Axes>"
            ]
          },
          "metadata": {
            "tags": [],
            "needs_background": "light"
          }
        }
      ]
    },
    {
      "cell_type": "code",
      "metadata": {
        "colab": {
          "base_uri": "https://localhost:8080/"
        },
        "id": "r4JaciYF6rkV",
        "outputId": "9979e2b9-7b6a-4d92-a763-c619a327e373"
      },
      "source": [
        "print(scores_list)"
      ],
      "execution_count": null,
      "outputs": [
        {
          "output_type": "stream",
          "text": [
            "[0.5177304964539007, 0.5177304964539007, 0.5390070921985816, 0.5602836879432624, 0.5673758865248227, 0.5815602836879432, 0.5886524822695035, 0.5957446808510638, 0.5886524822695035]\n"
          ],
          "name": "stdout"
        }
      ]
    }
  ]
}