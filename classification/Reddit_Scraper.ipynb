{
  "nbformat": 4,
  "nbformat_minor": 0,
  "metadata": {
    "colab": {
      "name": "Reddit_Scraper.ipynb",
      "provenance": []
    },
    "kernelspec": {
      "name": "python3",
      "display_name": "Python 3"
    }
  },
  "cells": [
    {
      "cell_type": "markdown",
      "metadata": {
        "id": "ho3VPYTtSep2"
      },
      "source": [
        "Reddit API Variables"
      ]
    },
    {
      "cell_type": "code",
      "metadata": {
        "id": "1mUToK3uPxE9"
      },
      "source": [
        "Client_ID = \"YbSUDdvvAbzT3A\"\n",
        "Client_Secret = \"O35CSnOR8NuFaZeStEOmyzoML6w\"\n",
        "App_Name = \"EAFC\"\n",
        "username =\"EAFC-scraper\"\n",
        "password =\"test$1234\"\n",
        "\n",
        "subreddit_name ='CancerCaregivers'\n",
        "\n",
        "#Following are the pertinent subreddits \n",
        "#CancerFamilySupport\n",
        "#Cancer\n",
        "#CancerCaregivers"
      ],
      "execution_count": null,
      "outputs": []
    },
    {
      "cell_type": "markdown",
      "metadata": {
        "id": "TWGRwq903vuK"
      },
      "source": [
        "Praw is the Python Library for Reddit API"
      ]
    },
    {
      "cell_type": "code",
      "metadata": {
        "id": "v1dH1yVnuy0Y",
        "outputId": "9a6d6b59-81ec-438a-e56e-ce4f9604868a",
        "colab": {
          "base_uri": "https://localhost:8080/",
          "height": 207
        }
      },
      "source": [
        "pip install praw"
      ],
      "execution_count": null,
      "outputs": [
        {
          "output_type": "stream",
          "text": [
            "Requirement already satisfied: praw in /usr/local/lib/python3.6/dist-packages (7.1.0)\n",
            "Requirement already satisfied: prawcore<2.0,>=1.3.0 in /usr/local/lib/python3.6/dist-packages (from praw) (1.5.0)\n",
            "Requirement already satisfied: update-checker>=0.17 in /usr/local/lib/python3.6/dist-packages (from praw) (0.18.0)\n",
            "Requirement already satisfied: websocket-client>=0.54.0 in /usr/local/lib/python3.6/dist-packages (from praw) (0.57.0)\n",
            "Requirement already satisfied: requests<3.0,>=2.6.0 in /usr/local/lib/python3.6/dist-packages (from prawcore<2.0,>=1.3.0->praw) (2.23.0)\n",
            "Requirement already satisfied: six in /usr/local/lib/python3.6/dist-packages (from websocket-client>=0.54.0->praw) (1.15.0)\n",
            "Requirement already satisfied: certifi>=2017.4.17 in /usr/local/lib/python3.6/dist-packages (from requests<3.0,>=2.6.0->prawcore<2.0,>=1.3.0->praw) (2020.6.20)\n",
            "Requirement already satisfied: chardet<4,>=3.0.2 in /usr/local/lib/python3.6/dist-packages (from requests<3.0,>=2.6.0->prawcore<2.0,>=1.3.0->praw) (3.0.4)\n",
            "Requirement already satisfied: urllib3!=1.25.0,!=1.25.1,<1.26,>=1.21.1 in /usr/local/lib/python3.6/dist-packages (from requests<3.0,>=2.6.0->prawcore<2.0,>=1.3.0->praw) (1.24.3)\n",
            "Requirement already satisfied: idna<3,>=2.5 in /usr/local/lib/python3.6/dist-packages (from requests<3.0,>=2.6.0->prawcore<2.0,>=1.3.0->praw) (2.10)\n"
          ],
          "name": "stdout"
        }
      ]
    },
    {
      "cell_type": "code",
      "metadata": {
        "id": "f3-2xY2vpdqP"
      },
      "source": [
        "import praw\n",
        "import pandas as pd\n",
        "import datetime as dt"
      ],
      "execution_count": null,
      "outputs": []
    },
    {
      "cell_type": "code",
      "metadata": {
        "id": "RVol6YSDSdMZ"
      },
      "source": [
        "reddit = praw.Reddit(client_id = Client_ID, \\\n",
        "                     client_secret = Client_Secret, \\\n",
        "                     user_agent = App_Name, \\\n",
        "                     username = username, \\\n",
        "                     password = password)"
      ],
      "execution_count": null,
      "outputs": []
    },
    {
      "cell_type": "code",
      "metadata": {
        "id": "IO5WdOzSvX7g"
      },
      "source": [
        "#Get the subreddit\n",
        "subreddit = reddit.subreddit(subreddit_name)\n",
        "\n",
        "#Get top most upvoted reddits\n",
        "top_subreddit = subreddit.top(limit=1500)\n"
      ],
      "execution_count": null,
      "outputs": []
    },
    {
      "cell_type": "code",
      "metadata": {
        "id": "bjIdiYXww_eS"
      },
      "source": [
        "#Create a Dictionary for holding scrapped data\n",
        "topics_dict = { \"title\":[], \\\n",
        "                \"score\":[], \\\n",
        "                \"id\":[], \"url\":[],\\\n",
        "                \"comms_num\": [], \\\n",
        "                \"created\": [], \\\n",
        "                \"body\":[]}"
      ],
      "execution_count": null,
      "outputs": []
    },
    {
      "cell_type": "code",
      "metadata": {
        "id": "yJsiI_e9wayY"
      },
      "source": [
        "#Actual Scraping happens here\n",
        "for submission in top_subreddit:\n",
        "    topics_dict[\"title\"].append(submission.title)\n",
        "    topics_dict[\"score\"].append(submission.score)\n",
        "    topics_dict[\"id\"].append(submission.id)\n",
        "    topics_dict[\"url\"].append(submission.url)\n",
        "    topics_dict[\"comms_num\"].append(submission.num_comments)\n",
        "    topics_dict[\"created\"].append(submission.created)\n",
        "    topics_dict[\"body\"].append(submission.selftext)"
      ],
      "execution_count": null,
      "outputs": []
    },
    {
      "cell_type": "code",
      "metadata": {
        "id": "i_lmR57wxO1i"
      },
      "source": [
        "#convert our dictionary into a pandas dataframe\n",
        "topics_data = pd.DataFrame(topics_dict)"
      ],
      "execution_count": null,
      "outputs": []
    },
    {
      "cell_type": "code",
      "metadata": {
        "id": "aJzfNFFyxrXm",
        "outputId": "df32d117-6f59-40f5-dc15-f028fa9fcb14",
        "colab": {
          "base_uri": "https://localhost:8080/",
          "height": 34
        }
      },
      "source": [
        "print(len(topics_data))"
      ],
      "execution_count": null,
      "outputs": [
        {
          "output_type": "stream",
          "text": [
            "632\n"
          ],
          "name": "stdout"
        }
      ]
    },
    {
      "cell_type": "code",
      "metadata": {
        "id": "g6CyzsByzqVN"
      },
      "source": [
        "#Creating a new column \"timestamp\" by fixing the date from the column \"Created\"\n",
        "def get_date(created):\n",
        "    return dt.datetime.fromtimestamp(created)\n",
        "\n",
        "_timestamp = topics_data[\"created\"].apply(get_date)\n",
        "\n",
        "topics_data = topics_data.assign(timestamp = _timestamp)"
      ],
      "execution_count": null,
      "outputs": []
    },
    {
      "cell_type": "code",
      "metadata": {
        "id": "K1HgjXFdxQgd",
        "outputId": "5f2b7c24-c575-4fa6-ae7c-ff275589eed1",
        "colab": {
          "base_uri": "https://localhost:8080/",
          "height": 997
        }
      },
      "source": [
        "topics_data"
      ],
      "execution_count": null,
      "outputs": [
        {
          "output_type": "execute_result",
          "data": {
            "text/html": [
              "<div>\n",
              "<style scoped>\n",
              "    .dataframe tbody tr th:only-of-type {\n",
              "        vertical-align: middle;\n",
              "    }\n",
              "\n",
              "    .dataframe tbody tr th {\n",
              "        vertical-align: top;\n",
              "    }\n",
              "\n",
              "    .dataframe thead th {\n",
              "        text-align: right;\n",
              "    }\n",
              "</style>\n",
              "<table border=\"1\" class=\"dataframe\">\n",
              "  <thead>\n",
              "    <tr style=\"text-align: right;\">\n",
              "      <th></th>\n",
              "      <th>title</th>\n",
              "      <th>score</th>\n",
              "      <th>id</th>\n",
              "      <th>url</th>\n",
              "      <th>comms_num</th>\n",
              "      <th>created</th>\n",
              "      <th>body</th>\n",
              "      <th>timestamp</th>\n",
              "    </tr>\n",
              "  </thead>\n",
              "  <tbody>\n",
              "    <tr>\n",
              "      <th>0</th>\n",
              "      <td>We lost a good one on Friday. My husbands name...</td>\n",
              "      <td>40</td>\n",
              "      <td>dls0bc</td>\n",
              "      <td>https://i.redd.it/pffqk2va07u31.png</td>\n",
              "      <td>5</td>\n",
              "      <td>1.571823e+09</td>\n",
              "      <td></td>\n",
              "      <td>2019-10-23 09:22:36</td>\n",
              "    </tr>\n",
              "    <tr>\n",
              "      <th>1</th>\n",
              "      <td>Oct 16 I lost my husband, he fought for 13 mon...</td>\n",
              "      <td>37</td>\n",
              "      <td>dl51m1</td>\n",
              "      <td>https://i.redd.it/xnlrm2txxxt31.jpg</td>\n",
              "      <td>9</td>\n",
              "      <td>1.571713e+09</td>\n",
              "      <td></td>\n",
              "      <td>2019-10-22 02:53:18</td>\n",
              "    </tr>\n",
              "    <tr>\n",
              "      <th>2</th>\n",
              "      <td>Caregivers come in all shapes and sizes.</td>\n",
              "      <td>34</td>\n",
              "      <td>d7isg3</td>\n",
              "      <td>https://i.redd.it/envznjnwd1o31.jpg</td>\n",
              "      <td>1</td>\n",
              "      <td>1.569139e+09</td>\n",
              "      <td></td>\n",
              "      <td>2019-09-22 08:03:23</td>\n",
              "    </tr>\n",
              "    <tr>\n",
              "      <th>3</th>\n",
              "      <td>Caregiving is Lonely</td>\n",
              "      <td>31</td>\n",
              "      <td>e7fqd8</td>\n",
              "      <td>https://www.reddit.com/r/CancerCaregivers/comm...</td>\n",
              "      <td>17</td>\n",
              "      <td>1.575762e+09</td>\n",
              "      <td>My wife is in the hospital getting a high dose...</td>\n",
              "      <td>2019-12-07 23:41:51</td>\n",
              "    </tr>\n",
              "    <tr>\n",
              "      <th>4</th>\n",
              "      <td>The thing with cancer is...</td>\n",
              "      <td>32</td>\n",
              "      <td>f50yf5</td>\n",
              "      <td>https://www.reddit.com/r/CancerCaregivers/comm...</td>\n",
              "      <td>17</td>\n",
              "      <td>1.581932e+09</td>\n",
              "      <td>You don’t think that you’re part of the cancer...</td>\n",
              "      <td>2020-02-17 09:37:53</td>\n",
              "    </tr>\n",
              "    <tr>\n",
              "      <th>...</th>\n",
              "      <td>...</td>\n",
              "      <td>...</td>\n",
              "      <td>...</td>\n",
              "      <td>...</td>\n",
              "      <td>...</td>\n",
              "      <td>...</td>\n",
              "      <td>...</td>\n",
              "      <td>...</td>\n",
              "    </tr>\n",
              "    <tr>\n",
              "      <th>627</th>\n",
              "      <td>My nephews bestie has cancer, this is our stor...</td>\n",
              "      <td>0</td>\n",
              "      <td>hl8hyx</td>\n",
              "      <td>https://www.reddit.com/r/CancerCaregivers/comm...</td>\n",
              "      <td>0</td>\n",
              "      <td>1.593917e+09</td>\n",
              "      <td>Just to clear some things up:\\n\\n1: I don’t ha...</td>\n",
              "      <td>2020-07-05 02:51:09</td>\n",
              "    </tr>\n",
              "    <tr>\n",
              "      <th>628</th>\n",
              "      <td>I’m working with two ER doctors who are launch...</td>\n",
              "      <td>0</td>\n",
              "      <td>hg91lr</td>\n",
              "      <td>https://motivf1.typeform.com/to/o53U5a3z</td>\n",
              "      <td>0</td>\n",
              "      <td>1.593212e+09</td>\n",
              "      <td></td>\n",
              "      <td>2020-06-26 22:54:01</td>\n",
              "    </tr>\n",
              "    <tr>\n",
              "      <th>629</th>\n",
              "      <td>Top 5 NATURAL remedies that prevent Pancreatic...</td>\n",
              "      <td>0</td>\n",
              "      <td>7pxonm</td>\n",
              "      <td>https://youtu.be/hnxQFBC3iQk</td>\n",
              "      <td>1</td>\n",
              "      <td>1.515803e+09</td>\n",
              "      <td></td>\n",
              "      <td>2018-01-13 00:28:06</td>\n",
              "    </tr>\n",
              "    <tr>\n",
              "      <th>630</th>\n",
              "      <td>Question</td>\n",
              "      <td>0</td>\n",
              "      <td>bylt17</td>\n",
              "      <td>https://www.reddit.com/r/CancerCaregivers/comm...</td>\n",
              "      <td>4</td>\n",
              "      <td>1.560125e+09</td>\n",
              "      <td>I have a hard and painless lymph node on my ne...</td>\n",
              "      <td>2019-06-10 00:10:29</td>\n",
              "    </tr>\n",
              "    <tr>\n",
              "      <th>631</th>\n",
              "      <td>Unbelievable:World Most Hiden Cure For Cancer</td>\n",
              "      <td>0</td>\n",
              "      <td>6h1jqe</td>\n",
              "      <td>http://www.mrhealthyworld.com/2017/06/10/when-...</td>\n",
              "      <td>1</td>\n",
              "      <td>1.497405e+09</td>\n",
              "      <td></td>\n",
              "      <td>2017-06-14 01:49:27</td>\n",
              "    </tr>\n",
              "  </tbody>\n",
              "</table>\n",
              "<p>632 rows × 8 columns</p>\n",
              "</div>"
            ],
            "text/plain": [
              "                                                 title  ...           timestamp\n",
              "0    We lost a good one on Friday. My husbands name...  ... 2019-10-23 09:22:36\n",
              "1    Oct 16 I lost my husband, he fought for 13 mon...  ... 2019-10-22 02:53:18\n",
              "2             Caregivers come in all shapes and sizes.  ... 2019-09-22 08:03:23\n",
              "3                                 Caregiving is Lonely  ... 2019-12-07 23:41:51\n",
              "4                          The thing with cancer is...  ... 2020-02-17 09:37:53\n",
              "..                                                 ...  ...                 ...\n",
              "627  My nephews bestie has cancer, this is our stor...  ... 2020-07-05 02:51:09\n",
              "628  I’m working with two ER doctors who are launch...  ... 2020-06-26 22:54:01\n",
              "629  Top 5 NATURAL remedies that prevent Pancreatic...  ... 2018-01-13 00:28:06\n",
              "630                                           Question  ... 2019-06-10 00:10:29\n",
              "631      Unbelievable:World Most Hiden Cure For Cancer  ... 2017-06-14 01:49:27\n",
              "\n",
              "[632 rows x 8 columns]"
            ]
          },
          "metadata": {
            "tags": []
          },
          "execution_count": 23
        }
      ]
    },
    {
      "cell_type": "code",
      "metadata": {
        "id": "Zu0SCDbE0eZA"
      },
      "source": [
        "#Exporting to CSV\n",
        "Filename='Reddit'+ subreddit_name +'.csv'\n",
        "topics_data.to_csv(Filename, index=False) "
      ],
      "execution_count": null,
      "outputs": []
    }
  ]
}